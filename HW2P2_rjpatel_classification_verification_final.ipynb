{
 "cells": [
  {
   "cell_type": "code",
   "execution_count": null,
   "metadata": {
    "id": "jwLEd0gdPbSc"
   },
   "outputs": [],
   "source": [
    "import torch\n",
    "import torch.nn as nn\n",
    "import torch.nn.functional as F\n",
    "import torch.optim as optim\n",
    "from torch.utils.data import Dataset, DataLoader\n",
    "\n",
    "import torchvision\n",
    "import torchvision.transforms as ttf\n",
    "\n",
    "import os\n",
    "import os.path as osp\n",
    "\n",
    "from tqdm import tqdm\n",
    "from PIL import Image\n",
    "from sklearn.metrics import roc_auc_score\n",
    "import numpy as np\n",
    "import math"
   ]
  },
  {
   "cell_type": "markdown",
   "metadata": {
    "id": "Wk_DM9cNY1Il"
   },
   "source": [
    "# Brief note on the assignment\n",
    "\n",
    "In this assignment I have trained two separate models both using ConvNeXt for the Classification and Verification tasks because the model (model-1) that produced highest accuracy for the Classification task (Private score: 0.86102) did not produce the best score on the Verification task (that produced private score of 0.95246 in verification task). The other model (model-2) produced private score of 0.96046 on verification task which was producing private score of 0.84816 on classification.\n",
    "\n",
    "Model-1: Classification score - 0.86102; validation score - 0.95246\n",
    "\n",
    "Model-2: Classification score - 0.84816; validation score - 0.96046\n",
    "\n",
    "The weights of these two models are attached with the submission:\n",
    "\n",
    "Model-1: epo_num_152_model_classification.pt\n",
    "\n",
    "Model-2: epo_num_64_model_verification.pt\n",
    "\n",
    "The code trains the first model and after producing predictions for the classification task, it trains the second model for producing predictions for the verification task.\n",
    "\n",
    "InvertedResidualBlock is same for both the models while the configuration for the ConvNeXt class, number of epochs and data augmentation methods are different for the two.\n",
    "\n",
    "Following are the main differences of the configurations of the two models:\n",
    "\n",
    "Model-1:\n",
    "batch_size = 250\n",
    "\n",
    "lr = 0.05\n",
    "\n",
    "epochs = 152\n",
    "\n",
    "for the ConvNeXt class: \n",
    "\n",
    "in_channels = 32\n",
    "\n",
    "size of the last linear layer, last_linear_layer = 550\n",
    "\n",
    "nn.Dropout(p = 0.25)\n",
    "\n",
    "train_transforms = [ttf.RandomHorizontalFlip(p = 0.5),\n",
    "                    ttf.RandAugment(),\n",
    "                    ttf.GaussianBlur(kernel_size = 5),\n",
    "                    ttf.ColorJitter(brightness = (0.5, 1.5), \n",
    "                                    contrast = (0.5, 1.5),\n",
    "                                    saturation = (0, 0.5),\n",
    "                                    hue = 0),\n",
    "                    ttf.RandomAffine(degrees = 10),\n",
    "                    ttf.ToTensor()]\n",
    "\n",
    "\n",
    "Model-2:\n",
    "\n",
    "batch_size = 128\n",
    "\n",
    "lr = 0.05\n",
    "\n",
    "epochs = 64\n",
    "\n",
    "for the ConvNeXt class: \n",
    "\n",
    "in_channels = 32\n",
    "\n",
    "size of the last linear layer, last_linear_layer = 512\n",
    "\n",
    "nn.Dropout(p = 0.2)\n",
    "\n",
    "train_transforms = [ttf.RandomHorizontalFlip(p = 0.5),\n",
    "                    ttf.ColorJitter(brightness = (0.6, 1.4), \n",
    "                                    contrast = (0.6, 1.4),\n",
    "                                    saturation = (0, 0.5),\n",
    "                                    hue = 0),\n",
    "                    ttf.RandAugment(),\n",
    "                    ttf.GaussianBlur(kernel_size = 7),\n",
    "                    ttf.RandomAffine(degrees = 10),\n",
    "                    ttf.ToTensor()]\n",
    "\n",
    "However, both the models use the same configuration for expand_ratio, channels, blocks, stride of first block:\n",
    " [4,   96, 3, 2],\n",
    " [8,  192, 3, 2],\n",
    " [8,  384, 7, 2],\n",
    " [8,  512, 3, 2]\n",
    "\n",
    "In the process of arriving at the above two models I have explored different combinations of values of the following hyperparameters and have included configurations that worked for my homework group team members. Surprisingly some of the configurations of the hyperparameter values that worked for other teammates did not produce similar good results in my case.\n",
    "\n",
    "I have also mentioned these alternatives within the code.\n",
    "\n",
    "batch_sizes: 32, 64, 128, 250\n",
    "\n",
    "learning rates: 0.012, 0.0185, 0.01, 0.05\n",
    "\n",
    "size of the last linear layer in ConvNeXt, last_linear_layer = tried 512, 550, 740, 750, 760\n",
    "\n",
    "760 was the maximum size that would allow the number of parameters to be under 35MN for this configuration.\n",
    "\n",
    "Data augmentation combinations tried other than the above two that worked:\n",
    "\n",
    "config 1\n",
    "\n",
    "train_transforms = [ttf.ColorJitter(brightness = 0.25, contrast = 0.25, saturation = 0.25, hue = 0.2),\n",
    "                    ttf.RandomHorizontalFlip(p = 0.25),\n",
    "                    ttf.RandomVerticalFlip(p = 0.25),\n",
    "                    ttf.RandomAffine(degrees = 25, translate = None, scale = (0.6, 0.8)),\n",
    "                    ttf.ToTensor()]\n",
    "\n",
    "\n",
    "config 2\n",
    "\n",
    "train_transforms = [ttf.RandomAffine(degrees = 5),\n",
    "                    ttf.RandomApply(transforms = nn.ModuleList([ttf.ColorJitter()]), p = 0.5),\n",
    "                    ttf.RandomHorizontalFlip(p = 0.5),\n",
    "                    ttf.RandomAdjustSharpness(sharpness_factor = 0, p = 0.5),\n",
    "                    ttf.RandomAutocontrast(p = 0.5),\n",
    "                    ttf.ToTensor()]\n",
    "\n",
    "\n",
    "config 3\n",
    "\n",
    "train_transforms = [ttf.RandomAffine(degrees = 5),\n",
    "                    ttf.RandomApply(transforms = nn.ModuleList([ttf.ColorJitter(brightness = (0.6, 1.4), \n",
    "                                                                                contrast = (0.6, 1.4), \n",
    "                                                                                saturation = 0, \n",
    "                                                                                hue = 0)]), p = 0.5),\n",
    "                    ttf.RandomHorizontalFlip(p = 0.5),\n",
    "                    ttf.RandomAdjustSharpness(sharpness_factor = 0, p = 0.5),\n",
    "                    ttf.RandomAutocontrast(p = 0.5),\n",
    "                    ttf.ToTensor()]\n",
    "\n",
    "Alternative configurations for expand_ratio, channels, # blocks, stride of first block\n",
    "\n",
    "alternative-2 considered\n",
    "            [8,   96, 3, 2],\n",
    "            [8,  192, 3, 2],\n",
    "            [8,  384, 7, 2],\n",
    "            [8,  512, 3, 2]\n",
    "\n",
    "alternative-3 considered\n",
    "            [6,   96, 3, 2],\n",
    "            [8,  192, 3, 2],\n",
    "            [8,  384, 7, 2],\n",
    "            [8,  512, 3, 2]\n",
    "\n",
    "I was using colab pro that crashes after certain epochs, so I have set up a system in which I can load the last saved model before crash and then continue the training thereon. This causes the train and validation accuracies to drop again and the recover to the earlier levels after a few epochs (20-30 epochs). However, the above two models were trained upto epoch 152 and 64 respectively in a single run without break.\n",
    "\n",
    "\n",
    "Following is how the train and test accuracies for the classification task changed over the epochs for the two models:\n",
    "\n"
   ]
  },
  {
   "cell_type": "markdown",
   "metadata": {
    "id": "ljhm08Yvo-Xa"
   },
   "source": [
    "![model1.jpg](data:image/jpeg;base64,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)"
   ]
  },
  {
   "cell_type": "markdown",
   "metadata": {
    "id": "9ULs55pNmnZW"
   },
   "source": [
    "![model2.jpg](data:image/jpeg;base64,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)"
   ]
  },
  {
   "cell_type": "markdown",
   "metadata": {
    "id": "1oxQNl-YVWHc"
   },
   "source": [
    "# TODOs\n",
    "As you go, please read the code and keep an eye out for TODOs!"
   ]
  },
  {
   "cell_type": "markdown",
   "metadata": {
    "id": "scOnMklwWBY6"
   },
   "source": [
    "# Download Data"
   ]
  },
  {
   "cell_type": "code",
   "execution_count": null,
   "metadata": {
    "colab": {
     "base_uri": "https://localhost:8080/"
    },
    "id": "6BksgPdkQwwb",
    "outputId": "69c43498-666b-478a-b40b-c0f512df609d"
   },
   "outputs": [
    {
     "name": "stdout",
     "output_type": "stream",
     "text": [
      "Collecting kaggle==1.5.8\n",
      "  Using cached kaggle-1.5.8-py3-none-any.whl\n",
      "Installing collected packages: kaggle\n",
      "  Attempting uninstall: kaggle\n",
      "    Found existing installation: kaggle 1.5.8\n",
      "    Uninstalling kaggle-1.5.8:\n",
      "      Successfully uninstalled kaggle-1.5.8\n",
      "Successfully installed kaggle-1.5.8\n",
      "mkdir: cannot create directory ‘/root/.kaggle’: File exists\n"
     ]
    }
   ],
   "source": [
    "!pip install --upgrade --force-reinstall --no-deps kaggle==1.5.8\n",
    "!mkdir /root/.kaggle\n",
    "\n",
    "with open(\"/root/.kaggle/kaggle.json\", \"w+\") as f: #/home/ubuntu/.kaggle/kaggle.json for running on AWS #/root/.kaggle/kaggle.json for colab\n",
    "    f.write('{\"username\":\"patelravi\",\"key\":\"c1a7fea57eed01dfa744d9d6bb02a004\"}') # Put your kaggle username & key here\n",
    "\n",
    "!chmod 600 /root/.kaggle/kaggle.json"
   ]
  },
  {
   "cell_type": "code",
   "execution_count": null,
   "metadata": {
    "colab": {
     "base_uri": "https://localhost:8080/"
    },
    "id": "3oFjaJTaRjT7",
    "outputId": "c71337f0-4f99-47aa-898a-d05afe7f3027"
   },
   "outputs": [
    {
     "name": "stdout",
     "output_type": "stream",
     "text": [
      "11-785-s22-hw2p2-classification.zip: Skipping, found more recently modified local copy (use --force to force download)\n",
      "11-785-s22-hw2p2-verification.zip: Skipping, found more recently modified local copy (use --force to force download)\n",
      "replace classification/classification/dev/n000002/0121_01.jpg? [y]es, [n]o, [A]ll, [N]one, [r]ename: All\n",
      "replace verification/verification/dev/000b28b024.jpg? [y]es, [n]o, [A]ll, [N]one, [r]ename: All\n",
      "11-785-s22-hw2p2-classification.zip   train_dataset_c4.pt\n",
      "11-785-s22-hw2p2-verification.zip     train_subset\n",
      "classification\t\t\t      val_dataset_c4.pt\n",
      "classification_sample_submission.csv  verification\n",
      "epo_num_152_model_classification.pt   verification_sample_submission.csv\n",
      "sample_data\n"
     ]
    }
   ],
   "source": [
    "!kaggle competitions download -c 11-785-s22-hw2p2-classification\n",
    "!kaggle competitions download -c 11-785-s22-hw2p2-verification\n",
    "\n",
    "!unzip -q 11-785-s22-hw2p2-classification.zip\n",
    "!unzip -q 11-785-s22-hw2p2-verification.zip\n",
    "\n",
    "!ls"
   ]
  },
  {
   "cell_type": "markdown",
   "metadata": {
    "id": "cBTLCyocZBGS"
   },
   "source": [
    "# Hyperparameters"
   ]
  },
  {
   "cell_type": "code",
   "execution_count": null,
   "metadata": {
    "id": "13usn4nYZCvJ"
   },
   "outputs": [],
   "source": [
    "\"\"\"\n",
    "The well-accepted SGD batch_size & lr combination for CNN classification is 256 batch size for 0.1 learning rate.\n",
    "When changing batch size for SGD, follow the linear scaling rule - halving batch size -> halve learning rate, etc.\n",
    "This is less theoretically supported for Adam, but in my experience, it's a decent ballpark estimate.\n",
    "\"\"\"\n",
    "\n",
    "# classification task: batch size of 250 produced the highest accuracy for the classification task\n",
    "# verification task: batch size of 128 produced the highest accuracy for the verification task\n",
    "\n",
    "# for the classification task final model\n",
    "batch_size = 250     #tried 32, 64, 128, 250\n",
    "\n",
    "lr = 0.05         #tried 0.012, 0.0185, 0.01, 0.05\n",
    "epochs = 200 # Just for the early submission. We'd want you to train like 50 epochs for your main submissions."
   ]
  },
  {
   "cell_type": "markdown",
   "metadata": {
    "id": "mIqmojPaWD0H"
   },
   "source": [
    "# Very Simple Network"
   ]
  },
  {
   "cell_type": "code",
   "execution_count": null,
   "metadata": {
    "id": "Ny-mh_ocWIJR"
   },
   "outputs": [],
   "source": [
    "class Network(nn.Module):\n",
    "    \"\"\"\n",
    "    The Very Low early deadline architecture is a 4-layer CNN.\n",
    "    The first Conv layer has 64 channels, kernel size 7, and stride 4.\n",
    "    The next three have 128, 256, and 512 channels. Each have kernel size 3 and stride 2.\n",
    "    Think about what the padding should be for each layer to not change spatial resolution.\n",
    "    Each Conv layer is accompanied by a Batchnorm and ReLU layer.\n",
    "    Finally, you want to average pool over the spatial dimensions to reduce them to 1 x 1.\n",
    "    Then, remove (Flatten?) these trivial 1x1 dimensions away.\n",
    "    Look through https://pytorch.org/docs/stable/nn.html \n",
    "    TODO: Fill out the model definition below! \n",
    "\n",
    "    Why does a very simple network have 4 convolutions?\n",
    "    Input images are 224x224. Note that each of these convolutions downsample.\n",
    "    Downsampling 2x effectively doubles the receptive field, increasing the spatial\n",
    "    region each pixel extracts features from. Downsampling 32x is standard\n",
    "    for most image models.\n",
    "\n",
    "    Why does a very simple network have high channel sizes?\n",
    "    Every time you downsample 2x, you do 4x less computation (at same channel size).\n",
    "    To maintain the same level of computation, you 2x increase # of channels, which \n",
    "    increases computation by 4x. So, balances out to same computation.\n",
    "    Another intuition is - as you downsample, you lose spatial information. Want\n",
    "    to preserve some of it in the channel dimension.\n",
    "    \"\"\"\n",
    "    def __init__(self, num_classes=7000):\n",
    "        super().__init__()\n",
    "\n",
    "        self.backbone = nn.Sequential(\n",
    "            # Note that first conv is stride 4. It is (was?) standard to downsample.\n",
    "            # 4x early on, as with 224x224 images, 4x4 patches are just low-level details.\n",
    "            # Food for thought: Why is the first conv kernel size 7, not kernel size 3?\n",
    "\n",
    "            # TODO: Conv group 1\n",
    "            # TODO: Conv group 2\n",
    "            # TODO: Conv group 3\n",
    "            # TODO: Conv group 4\n",
    "\n",
    "            # TODO: Average pool over & reduce the spatial dimensions to (1, 1)\n",
    "            # TODO: Collapse (Flatten) the trivial (1, 1) dimensions\n",
    "            ) \n",
    "        \n",
    "        self.cls_layer = nn.Linear(512, num_classes)\n",
    "    \n",
    "    def forward(self, x, return_feats=False):\n",
    "        \"\"\"\n",
    "        What is return_feats? It essentially returns the second-to-last-layer\n",
    "        features of a given image. It's a \"feature encoding\" of the input image,\n",
    "        and you can use it for the verification task. You would use the outputs\n",
    "        of the final classification layer for the classification task.\n",
    "\n",
    "        You might also find that the classification outputs are sometimes better\n",
    "        for verification too - try both.\n",
    "        \"\"\"\n",
    "        feats = self.backbone(x)\n",
    "        out = self.cls_layer(feats)\n",
    "\n",
    "        if return_feats:\n",
    "            return feats\n",
    "        else:\n",
    "            return out"
   ]
  },
  {
   "cell_type": "code",
   "execution_count": null,
   "metadata": {
    "id": "W-yEaERzIkXY"
   },
   "outputs": [],
   "source": [
    "class InvertedResidualBlock_MobileNetV2(nn.Module):\n",
    "    \"\"\"\n",
    "    Intuitively, layers in MobileNet can be split into \"feature mixing\" \n",
    "    and \"spatial mixing\" layers. You can think of feature mixing as each pixel\n",
    "    \"thinking on its own\" about its own featuers, and you can think of spatial\n",
    "    mixing as pixels \"talking with each other\". Alternating these two builds\n",
    "    up a CNN.\n",
    "\n",
    "    In a bit more detail:\n",
    "\n",
    "    - The purpose of the \"feature mixing\" layers is what you've already seen in \n",
    "    hw1p2. Remember, in hw1p2, we went from some low-level audio input to\n",
    "    semantically rich representations of phonemes. Featuring mixing is simply a \n",
    "    linear layer (a weight matrix) that transforms simpler features into \n",
    "    something more advanced.\n",
    "\n",
    "    - The purpose of the \"spatial mixing\" layers is to mix features from different\n",
    "    spatial locations. You can't figure out a face by looking at each pixel on\n",
    "    its own, right? So we need 3x3 convolutions to mix features from neighboring\n",
    "    pixels to build up spatially larger features.\n",
    "    \"\"\"\n",
    "    def __init__(self,\n",
    "                 in_channels,\n",
    "                 out_channels,\n",
    "                 stride,\n",
    "                 expand_ratio):\n",
    "        super().__init__() # Just have to do this for all nn.Module classes\n",
    "\n",
    "        # Can only do identity residual connection if input & output are the\n",
    "        # same channel & spatial shape.\n",
    "        if stride == 1 and in_channels == out_channels:\n",
    "            self.do_identity = True\n",
    "        else:\n",
    "            self.do_identity = False\n",
    "        \n",
    "        # Expand Ratio is like 6, so hidden_dim >> in_channels\n",
    "        hidden_dim = in_channels * expand_ratio\n",
    "\n",
    "        \"\"\"\n",
    "        What is this doing? It's a 1x1 convolutional layer that drastically\n",
    "        increases the # of channels (feature dimension). 1x1 means each pixel\n",
    "        is thinking on its own, and increasing # of channels means the network\n",
    "        is seeing if it can \"see\" more clearly in a higher dimensional space.\n",
    "\n",
    "        Some patterns are just more obvious/separable in higher dimensions.\n",
    "\n",
    "        Also, note that bias = False since BatchNorm2d has a bias term built-in.\n",
    "\n",
    "        As you go, note the relationship between kernel_size and padding. As you\n",
    "        covered in class, padding = kernel_size // 2 (kernel_size being odd) to\n",
    "        make sure input & output spatial resolution is the same.\n",
    "        \"\"\"\n",
    "        self.feature_mixing = nn.Sequential(\n",
    "            # TODO: Fill this in!\n",
    "            nn.Conv2d(in_channels, hidden_dim, kernel_size = 1, stride = 1, padding = 0, bias = False), # bias = False, True if no BatchNorm2d\n",
    "            nn.BatchNorm2d(hidden_dim),\n",
    "            nn.GELU() # ReLU6, GELU\n",
    "        )\n",
    "\n",
    "        \"\"\"\n",
    "        What is this doing? Let's break it down.\n",
    "        - kernel_size = 3 means neighboring pixels are talking with each other.\n",
    "          This is different from feature mixing, where kernel_size = 1.\n",
    "\n",
    "        - stride. Remember that we sometimes want to downsample spatially. \n",
    "          Downsampling is done to reduce # of pixels (less computation to do), \n",
    "          and also to increase receptive field (if a face was 32x32, and now\n",
    "          it's 16x16, a 3x3 convolution covers more of the face, right?). It\n",
    "          makes sense to put the downsampling in the spatial mixing portion\n",
    "          since this layer is \"in charge\" of messing around spatially anyway.\n",
    "\n",
    "          Note that most of the time, stride is 1. It's just the first block of\n",
    "          every \"stage\" (layer \\subsetof block \\subsetof stage) that we have\n",
    "          stride = 2.\n",
    "\n",
    "        - groups = hidden_dim. Remember depthwise separable convolutions in \n",
    "          class? If not, it's fine. Usually, when we go from hidden_dim channels\n",
    "          to hidden_dim channels, they're densely connected (like a linear \n",
    "          layer). So you can think of every pixel/grid in an input\n",
    "          3 x 3 x hidden_dim block being connected to every single pixel/grid \n",
    "          in the output 3 x 3 x hidden_dim block.\n",
    "          What groups = hidden_dim does is remove a lot of these connections.\n",
    "\n",
    "          Now, each input 3 x 3 block/region is densely connected to the\n",
    "          corresponding output 3 x 3 block/region. This happens for each of the\n",
    "          hidden_dim input/output channel pairs independently.\n",
    "          So we're not even mixing different channels together - we're only \n",
    "          mixing spatial neighborhoods. \n",
    "          \n",
    "          Try to draw this out, or come to my (Jinhyung Park)'s OH if you want \n",
    "          a more in-depth explanation.\n",
    "          https://towardsdatascience.com/a-basic-introduction-to-separable-convolutions-b99ec3102728\n",
    "        \"\"\"\n",
    "        self.spatial_mixing = nn.Sequential(\n",
    "            # TODO: Fill this in!\n",
    "            nn.Conv2d(hidden_dim, hidden_dim, \n",
    "                      kernel_size = 3, padding = 1, \n",
    "                      stride = stride, groups = hidden_dim, bias = False),\n",
    "            nn.BatchNorm2d(hidden_dim),\n",
    "            nn.ReLU6(),\n",
    "        )\n",
    "\n",
    "        \"\"\"\n",
    "        What's this? Remember that hidden_dim is quite large - six times the \n",
    "        in_channels. So it was nice to do the above operations in this high-dim\n",
    "        space, where some patterns might be more clear. But we still want to \n",
    "        bring it back down-to-earth.\n",
    "\n",
    "        Intuitively, you can takeaway two reasons for doing this:\n",
    "        - Reduces computational cost by a lot. 6x in & out channels means 36x\n",
    "          larger weights, which is crazy. We're okay with just one of input or \n",
    "          output of a convolutional layer being large when mixing channels, but \n",
    "          not both.\n",
    "        \n",
    "        - We also want a residual connection from the input to the output. To \n",
    "          do that without introducing another convolutional layer, we want to\n",
    "          condense the # of channels back to be the same as the in_channels.\n",
    "          (out_channels and in_channels are usually the same).\n",
    "        \"\"\"\n",
    "        self.bottleneck_channels = nn.Sequential(\n",
    "            # TODO: Fill this in!\n",
    "            nn.Conv2d(hidden_dim, out_channels, kernel_size = 1, stride = 1, padding = 0, bias = False),\n",
    "            nn.BatchNorm2d(out_channels),\n",
    "        )\n",
    "\n",
    "    def forward(self, x):\n",
    "        out = self.feature_mixing(x)\n",
    "        out = self.spatial_mixing(out)\n",
    "        out = self.bottleneck_channels(out)\n",
    "\n",
    "        if self.do_identity:\n",
    "            return x + out\n",
    "        else:\n",
    "            return out\n"
   ]
  },
  {
   "cell_type": "code",
   "execution_count": null,
   "metadata": {
    "id": "76BI-sdPIsHy"
   },
   "outputs": [],
   "source": [
    "class MobileNetV2(nn.Module):\n",
    "    \"\"\"\n",
    "    The heavy lifting is already done in InvertedBottleneck.\n",
    "\n",
    "    Why MobileNetV2 and not V3? V2 is the foundation for V3, which uses \"neural\n",
    "    architecture search\" to find better configurations of V2. If you understand\n",
    "    V2 well, you can totally implement V3!\n",
    "    \"\"\"\n",
    "    def __init__(self, num_classes= 7000):\n",
    "        super().__init__()\n",
    "\n",
    "        self.num_classes = num_classes\n",
    "\n",
    "        \"\"\"\n",
    "        First couple of layers are special, just do them here.\n",
    "        This is called the \"stem\". Usually, methods use it to downsample or twice.\n",
    "        \"\"\"\n",
    "        self.stem = nn.Sequential(\n",
    "            # TODO: Fill this in!\n",
    "            nn.Conv2d(3, 32, kernel_size = 3, stride = 2, padding = 1, bias = False),\n",
    "            nn.BatchNorm2d(32),\n",
    "            nn.ReLU6(),\n",
    "            nn.Conv2d(32, 32, kernel_size = 3, stride = 1, padding = 1, groups = 32, bias = False),\n",
    "            nn.BatchNorm2d(32),\n",
    "            nn.ReLU6(),\n",
    "            nn.Conv2d(32, 16, kernel_size = 1, stride = 1, padding = 0, bias = False),\n",
    "            nn.BatchNorm2d(16),\n",
    "        )\n",
    "\n",
    "        \"\"\"\n",
    "        Since we're just repeating InvertedResidualBlocks again and again, we\n",
    "        want to specify their parameters like this.\n",
    "        The four numbers in each row (a stage) are shown below.\n",
    "        - Expand ratio: We talked about this in InvertedResidualBlock\n",
    "        - Channels: This specifies the channel size before expansion\n",
    "        - # blocks: Each stage has many blocks, how many?\n",
    "        - Stride of first block: For some stages, we want to downsample. In a\n",
    "          downsampling stage, we set the first block in that stage to have\n",
    "          stride = 2, and the rest just have stride = 1.\n",
    "\n",
    "        Again, note that almost every stage here is downsampling! By the time\n",
    "        we get to the last stage, what is the image resolution? Can it still\n",
    "        be called an image for our dataset? Think about this, and make changes\n",
    "        as you want.\n",
    "        \"\"\"\n",
    "        self.stage_cfgs = [\n",
    "            # expand_ratio, channels, # blocks, stride of first block\n",
    "            [6,  24, 2, 2],\n",
    "            [6,  32, 3, 2],\n",
    "            [6,  64, 4, 2],\n",
    "            [6,  96, 3, 1],\n",
    "            [6, 160, 3, 2],\n",
    "            [6, 320, 1, 1],\n",
    "        ]\n",
    "\n",
    "        # Remember that our stem left us off at 16 channels. We're going to \n",
    "        # keep updating this in_channels variable as we go\n",
    "        in_channels = 16\n",
    "\n",
    "        # Let's make the layers\n",
    "        layers = []\n",
    "        for curr_stage in self.stage_cfgs:\n",
    "            expand_ratio, num_channels, num_blocks, stride = curr_stage\n",
    "            \n",
    "            for block_idx in range(num_blocks):\n",
    "                out_channels = num_channels\n",
    "                layers.append(InvertedResidualBlock_MobileNetV2(\n",
    "                    in_channels=in_channels,\n",
    "                    out_channels=out_channels,\n",
    "                    # only have non-trivial stride if first block\n",
    "                    stride=stride if block_idx == 0 else 1, \n",
    "                    expand_ratio=expand_ratio\n",
    "                ))\n",
    "                # In channels of the next block is the out_channels of the current one\n",
    "                in_channels = out_channels \n",
    "            \n",
    "        self.layers = nn.Sequential(*layers) # Done, save them to the class\n",
    "\n",
    "        # Some final feature mixing\n",
    "        self.final_block = nn.Sequential(\n",
    "            nn.Conv2d(in_channels, 1280, kernel_size=1, padding=0, stride=1, bias=False),\n",
    "            nn.BatchNorm2d(1280),\n",
    "            nn.ReLU6()\n",
    "        )\n",
    "\n",
    "        # Now, we need to build the final classification layer.\n",
    "        self.cls_layer = nn.Sequential(\n",
    "            # TODO: Fill this in!\n",
    "            nn.AdaptiveAvgPool2d((1,1)),\n",
    "            nn.Flatten(),\n",
    "            nn.Linear(1280, num_classes)\n",
    "            # Pool over & collapse the spatial dimensions to (1, 1)\n",
    "            # Collapse the trivial (1, 1) dimensions\n",
    "            # Project to our # of classes\n",
    "        )\n",
    "\n",
    "        self._initialize_weights()\n",
    "\n",
    "    def _initialize_weights(self):\n",
    "        \"\"\"\n",
    "        Usually, I like to use default pytorch initialization for stuff, but\n",
    "        MobileNetV2 made a point of putting in some custom ones, so let's just\n",
    "        use them.\n",
    "        \"\"\"\n",
    "        for m in self.modules():\n",
    "            if isinstance(m, nn.Conv2d):\n",
    "                n = m.kernel_size[0] * m.kernel_size[1] * m.out_channels\n",
    "                m.weight.data.normal_(0, math.sqrt(2. / n))\n",
    "                if m.bias is not None:\n",
    "                    m.bias.data.zero_()\n",
    "            elif isinstance(m, nn.BatchNorm2d):\n",
    "                m.weight.data.fill_(1)\n",
    "                m.bias.data.zero_()\n",
    "            elif isinstance(m, nn.Linear):\n",
    "                m.weight.data.normal_(0, 0.01)\n",
    "                m.bias.data.zero_()\n",
    "\n",
    "    def forward(self, x):\n",
    "        out = self.stem(x)\n",
    "        out = self.layers(out)\n",
    "        out = self.final_block(out)\n",
    "        out = self.cls_layer(out)\n",
    "\n",
    "        return out"
   ]
  },
  {
   "cell_type": "code",
   "execution_count": null,
   "metadata": {
    "id": "mD8QwqZnIxI_"
   },
   "outputs": [],
   "source": [
    "class InvertedResidualBlock_Convnext(nn.Module):\n",
    "\n",
    "    def __init__(self,\n",
    "                 in_channels,\n",
    "                 out_channels,\n",
    "                 stride,\n",
    "                 expand_ratio):\n",
    "        super().__init__() # Just have to do this for all nn.Module classes\n",
    "\n",
    "        # Can only do identity residual connection if input & output are the\n",
    "        # same channel & spatial shape.\n",
    "        if stride == 1 and in_channels == out_channels:\n",
    "            self.do_identity = True\n",
    "        else:\n",
    "            self.do_identity = False\n",
    "        \n",
    "        # Expand Ratio is like 6, so hidden_dim >> in_channels\n",
    "        hidden_dim = in_channels * expand_ratio\n",
    "\n",
    "        self.spatial_mixing = nn.Sequential(\n",
    "            # TODO: Fill this in!\n",
    "            nn.Conv2d(in_channels, in_channels, \n",
    "                      kernel_size = 7, \n",
    "                      padding = 7//2, \n",
    "                      stride = stride, \n",
    "                      groups = in_channels, \n",
    "                      bias = False), # bias = False, True if no BatchNorm2d\n",
    "            nn.BatchNorm2d(in_channels)\n",
    "        )\n",
    "\n",
    "        self.feature_mixing = nn.Sequential(\n",
    "            # TODO: Fill this in!\n",
    "            nn.Conv2d(in_channels, hidden_dim, \n",
    "                      kernel_size = 1, \n",
    "                      stride = 1, \n",
    "                      padding = 1//2, # tried 1//2, 0\n",
    "                      bias = True), # bias = False, True if no BatchNorm2d\n",
    "            nn.GELU() # ReLU6, GELU\n",
    "        )\n",
    "\n",
    "\n",
    "        self.bottleneck_channels = nn.Sequential(\n",
    "            # TODO: Fill this in!\n",
    "            nn.Conv2d(hidden_dim, out_channels, \n",
    "                      kernel_size = 1, \n",
    "                      stride = 1, \n",
    "                      padding = 0, \n",
    "                      bias = True) # bias = False, True if no BatchNorm2d\n",
    "        )\n",
    "\n",
    "    def forward(self, x):\n",
    "        out_spatial_mixing = self.spatial_mixing(x)\n",
    "        out_feature_mixing = self.feature_mixing(out_spatial_mixing)\n",
    "        out_bottleneck_channels = self.bottleneck_channels(out_feature_mixing)\n",
    "\n",
    "        if self.do_identity:\n",
    "            return x + out_bottleneck_channels\n",
    "        else:\n",
    "            return out_bottleneck_channels\n"
   ]
  },
  {
   "cell_type": "code",
   "execution_count": null,
   "metadata": {
    "id": "gRKeW2VIRImY"
   },
   "outputs": [],
   "source": [
    "class ConvNeXt(nn.Module):\n",
    "\n",
    "    def __init__(self, num_classes = 7000):\n",
    "        super().__init__()\n",
    "\n",
    "        in_channels = 32\n",
    "\n",
    "        num_out_channels = 1280\n",
    "\n",
    "        last_linear_layer = 550 # tried 512, 550, 740, 750, 760\n",
    "\n",
    "        # last_linear_layer: to reduce the number of parameters below 35M, I tried the max number of out_features possible keeping total parameters under 35MN (which is 760 out_features) \n",
    "        # 740 out_features could not produce test accuracy more than 61% under config 1\n",
    "        # 512 and 550 achieved much higher accuracies than the other higher sizes (740, 750, 760) of last linear layer\n",
    "\n",
    "        self.num_classes = num_classes\n",
    "\n",
    "        self.stem = nn.Sequential(\n",
    "            # TODO: Fill this in!\n",
    "            nn.Conv2d(3, in_channels, \n",
    "                      kernel_size = 3, \n",
    "                      stride = 2, \n",
    "                      padding = 3//2, \n",
    "                      bias = False),\n",
    "            nn.BatchNorm2d(in_channels),\n",
    "            nn.GELU()\n",
    "            )\n",
    "\n",
    "        # alternative-1 considered\n",
    "        self.stage_cfgs = [\n",
    "            # expand_ratio, channels, # blocks, stride of first block\n",
    "            [4,   96, 3, 2],\n",
    "            [8,  192, 3, 2],\n",
    "            [8,  384, 7, 2],\n",
    "            [8,  512, 3, 2]\n",
    "            ]\n",
    "            \n",
    "        \"\"\" \n",
    "        alternative-2 considered\n",
    "            [8,   96, 3, 2],\n",
    "            [8,  192, 3, 2],\n",
    "            [8,  384, 7, 2],\n",
    "            [8,  512, 3, 2]\n",
    "        \"\"\"\n",
    "\n",
    "        \"\"\"\n",
    "        alternative-3 considered\n",
    "            [6,   96, 3, 2],\n",
    "            [8,  192, 3, 2],\n",
    "            [8,  384, 7, 2],\n",
    "            [8,  512, 3, 2]\n",
    "        \"\"\"\n",
    "\n",
    "\n",
    "        # Let's make the layers\n",
    "        layers = []\n",
    "        for curr_stage in self.stage_cfgs:\n",
    "            expand_ratio, num_channels, num_blocks, stride = curr_stage\n",
    "            \n",
    "            for block_idx in range(num_blocks):\n",
    "                out_channels = num_channels\n",
    "                layers.append(InvertedResidualBlock_Convnext(\n",
    "                    in_channels = in_channels,\n",
    "                    out_channels = out_channels,\n",
    "                    # only have non-trivial stride if first block\n",
    "                    stride = stride if block_idx == 0 else 1, \n",
    "                    expand_ratio = expand_ratio\n",
    "                ))\n",
    "                # In channels of the next block is the out_channels of the current one\n",
    "                in_channels = out_channels\n",
    "            \n",
    "        self.layers = nn.Sequential(*layers) # Done, save them to the class\n",
    "\n",
    "\n",
    "        # Some final feature mixing\n",
    "        self.final_block = nn.Sequential(\n",
    "            nn.Conv2d(in_channels, \n",
    "                      num_out_channels, \n",
    "                      kernel_size = 1, \n",
    "                      padding = 0, \n",
    "                      stride = 1, \n",
    "                      bias = False),\n",
    "            nn.BatchNorm2d(num_out_channels),\n",
    "            nn.GELU(), # options: ReLU6, GELU\n",
    "            nn.AdaptiveAvgPool2d((1,1)),\n",
    "            nn.Flatten()\n",
    "            )\n",
    "        \n",
    "        # Now, we need to build the final classification layer.\n",
    "        self.cls_layer = nn.Sequential(\n",
    "            # TODO: Fill this in!\n",
    "            nn.Linear(num_out_channels, last_linear_layer),\n",
    "            nn.BatchNorm1d(last_linear_layer),                  # tried with nn.GELU() as well instead of nn.BatchNorm1d() and nn.ReLU6()\n",
    "            nn.GELU(),                                          # tried ReLU, ReLU6, GELU #review\n",
    "            nn.Dropout(p = 0.25),                               # 0.2, 0.25\n",
    "            nn.Linear(last_linear_layer, self.num_classes)\n",
    "            )\n",
    "\n",
    "        self._initialize_weights()\n",
    "\n",
    "    def _initialize_weights(self):\n",
    "\n",
    "        for m in self.modules():\n",
    "            if isinstance(m, nn.Conv2d):\n",
    "                n = m.kernel_size[0] * m.kernel_size[1] * m.out_channels\n",
    "                m.weight.data.normal_(0, math.sqrt(2. / n))\n",
    "                if m.bias is not None:\n",
    "                    m.bias.data.zero_()\n",
    "            elif isinstance(m, nn.BatchNorm2d):\n",
    "                m.weight.data.fill_(1)\n",
    "                m.bias.data.zero_()\n",
    "            elif isinstance(m, nn.Linear):\n",
    "                m.weight.data.normal_(0, 0.01)\n",
    "                m.bias.data.zero_()\n",
    "\n",
    "    def forward(self, x):\n",
    "        stem_out = self.stem(x)\n",
    "        layers_out = self.layers(stem_out)\n",
    "        feat_out = self.final_block(layers_out)\n",
    "        out = self.cls_layer(feat_out)\n",
    "        return out\n",
    "\n",
    "\n"
   ]
  },
  {
   "cell_type": "markdown",
   "metadata": {
    "id": "NwYR-CLwX09u"
   },
   "source": [
    "# Dataset & DataLoader"
   ]
  },
  {
   "cell_type": "code",
   "execution_count": null,
   "metadata": {
    "id": "awE5BxlqX2o7"
   },
   "outputs": [],
   "source": [
    "\"\"\"\n",
    "Transforms (data augmentation) is quite important for this task.\n",
    "Go explore https://pytorch.org/vision/stable/transforms.html for more details\n",
    "\"\"\"\n",
    "\n",
    "\n",
    "DATA_DIR = \"/content\"  # for colab \"/content\" # for AWS \"/home/ubuntu\"\n",
    "TRAIN_DIR = osp.join(DATA_DIR, \"classification/classification/train\") \n",
    "    # This is a smaller subset of the data. Should change this to classification/classification/train\n",
    "    # small dataset: train_subset/train_subset\n",
    "VAL_DIR = osp.join(DATA_DIR, \"classification/classification/dev\")\n",
    "TEST_DIR = osp.join(DATA_DIR, \"classification/classification/test\")\n",
    "\n",
    "\n",
    "\n",
    "# classification task\n",
    "# config 4 - Used to train the final version of the model for classification task\n",
    "\n",
    "train_transforms = [ttf.RandomHorizontalFlip(p = 0.5),\n",
    "                    ttf.RandAugment(),\n",
    "                    ttf.GaussianBlur(kernel_size = 5),\n",
    "                    ttf.ColorJitter(brightness = (0.5, 1.5), \n",
    "                                    contrast = (0.5, 1.5),\n",
    "                                    saturation = (0, 0.5),\n",
    "                                    hue = 0),\n",
    "                    ttf.RandomAffine(degrees = 10),\n",
    "                    ttf.ToTensor()]\n",
    "\n",
    "\n",
    "\n",
    "\"\"\" other configurations tried\n",
    "\n",
    "# config 1\n",
    "train_transforms = [ttf.ColorJitter(brightness = 0.25, contrast = 0.25, saturation = 0.25, hue = 0.2),\n",
    "                    ttf.RandomHorizontalFlip(p = 0.25),\n",
    "                    ttf.RandomVerticalFlip(p = 0.25),\n",
    "                    #ttf.RandomAutocontrast(),\n",
    "                    ttf.RandomAffine(degrees = 25, translate = None, scale = (0.6, 0.8)),\n",
    "                    ttf.ToTensor()]\n",
    "\n",
    "                    # ttf.CenterCrop(), ttf.Resize(), ttf.RandomAutocontrast(), ttf.RandomEqualize(), ttf.RandomHorizontalFlip(), ttf.RandAugment(),ttf.ToTensor(),ttf.Normalize()\n",
    "\n",
    "\n",
    "# config 2\n",
    "train_transforms = [ttf.RandomAffine(degrees = 5),\n",
    "                    ttf.RandomApply(transforms = nn.ModuleList([ttf.ColorJitter()]), p = 0.5),\n",
    "                    ttf.RandomHorizontalFlip(p = 0.5),\n",
    "                    ttf.RandomAdjustSharpness(sharpness_factor = 0, p = 0.5),\n",
    "                    #ttf.RandomVerticalFlip(),\n",
    "                    ttf.RandomAutocontrast(p = 0.5),\n",
    "                    #ttf.RandomAffine(degrees = 45, translate = None, scale = (0.8, 1.2)),\n",
    "                    ttf.ToTensor()]\n",
    "\n",
    "\n",
    "# config 3\n",
    "train_transforms = [ttf.RandomAffine(degrees = 5),\n",
    "                    ttf.RandomApply(transforms = nn.ModuleList([ttf.ColorJitter(brightness = (0.6, 1.4), \n",
    "                                                                                contrast = (0.6, 1.4), \n",
    "                                                                                saturation = 0, \n",
    "                                                                                hue = 0)]), p = 0.5),\n",
    "                    ttf.RandomHorizontalFlip(p = 0.5),\n",
    "                    ttf.RandomAdjustSharpness(sharpness_factor = 0, p = 0.5),\n",
    "                    #ttf.RandomVerticalFlip(),\n",
    "                    ttf.RandomAutocontrast(p = 0.5),\n",
    "                    #ttf.RandomAffine(degrees = 45, translate = None, scale = (0.8, 1.2)),\n",
    "                    ttf.ToTensor()]\n",
    "\n",
    "\"\"\"\n",
    "\n",
    "\n",
    "\n",
    "val_transforms = [ttf.ToTensor()]\n",
    "\n",
    "train_dataset = torchvision.datasets.ImageFolder(TRAIN_DIR, transform = ttf.Compose(train_transforms))\n",
    "\n",
    "val_dataset = torchvision.datasets.ImageFolder(VAL_DIR, transform=ttf.Compose(val_transforms))\n",
    "\n",
    "\n",
    "# save the tensors locally to use the same augmented data again\n",
    "\n",
    "torch.save(train_dataset, 'train_dataset_c4.pt')\n",
    "torch.save(val_dataset, 'val_dataset_c4.pt')\n",
    "\n"
   ]
  },
  {
   "cell_type": "code",
   "execution_count": null,
   "metadata": {
    "id": "u74UajNB_vxW"
   },
   "outputs": [],
   "source": [
    "\n",
    "# loading dataset from saved imagefolder object\n",
    "\n",
    "#train_dataset = torch.load('train_dataset_c4.pt')\n",
    "\n",
    "#val_dataset = torch.load('val_dataset_c4.pt')\n",
    "\n",
    "\n",
    "train_loader = DataLoader(train_dataset, \n",
    "                          batch_size = batch_size,\n",
    "                          shuffle = True, \n",
    "                          drop_last = True, \n",
    "                          num_workers = 4)\n",
    "\n",
    "val_loader = DataLoader(val_dataset, \n",
    "                        batch_size = batch_size, \n",
    "                        shuffle = False,\n",
    "                        drop_last = True, \n",
    "                        num_workers = 4)"
   ]
  },
  {
   "cell_type": "markdown",
   "metadata": {
    "id": "KZCn0qHuZRKj"
   },
   "source": [
    "# Setup everything for training"
   ]
  },
  {
   "cell_type": "code",
   "execution_count": null,
   "metadata": {
    "colab": {
     "base_uri": "https://localhost:8080/"
    },
    "id": "UowI9OcUYPjP",
    "outputId": "dfc07888-d23e-4943-b2e1-a558035c8479"
   },
   "outputs": [
    {
     "name": "stdout",
     "output_type": "stream",
     "text": [
      "Number of Params: 33243866\n"
     ]
    }
   ],
   "source": [
    "model = ConvNeXt()\n",
    "model.cuda()\n",
    "\n",
    "# For this homework, we're limiting you to 35 million trainable parameters, as\n",
    "# outputted by this. This is to help constrain your search space and maintain\n",
    "# reasonable training times & expectations\n",
    "num_trainable_parameters = 0\n",
    "for p in model.parameters():\n",
    "    num_trainable_parameters += p.numel()\n",
    "print(\"Number of Params: {}\".format(num_trainable_parameters))\n",
    "\n",
    "# TODO: What criterion do we use for this task?\n",
    "criterion = nn.CrossEntropyLoss(label_smoothing = 0.15) # 0.1, 0.15\n",
    "optimizer = optim.SGD(model.parameters(), lr=lr, momentum=0.9, weight_decay=1e-4)\n",
    "scheduler = optim.lr_scheduler.CosineAnnealingLR(optimizer, T_max=(len(train_loader) * epochs))\n",
    "# T_max is \"how many times will i call scheduler.step() until it reaches 0 lr?\"\n",
    "\n",
    "# For this homework, we strongly strongly recommend using FP16 to speed up training.\n",
    "# It helps more for larger models.\n",
    "# Go to https://effectivemachinelearning.com/PyTorch/8._Faster_training_with_mixed_precision\n",
    "# and compare \"Single precision training\" section with \"Mixed precision training\" section\n",
    "scaler = torch.cuda.amp.GradScaler()"
   ]
  },
  {
   "cell_type": "markdown",
   "metadata": {
    "id": "dzM11HtcboYv"
   },
   "source": [
    "# Let's train!"
   ]
  },
  {
   "cell_type": "code",
   "execution_count": null,
   "metadata": {
    "colab": {
     "base_uri": "https://localhost:8080/",
     "height": 1000
    },
    "id": "JrChwbscbYkj",
    "outputId": "d868b70b-55cb-4eeb-bbae-77d946f44c2b"
   },
   "outputs": [
    {
     "metadata": {
      "tags": null
     },
     "name": "stderr",
     "output_type": "stream",
     "text": []
    },
    {
     "metadata": {
      "tags": null
     },
     "name": "stdout",
     "output_type": "stream",
     "text": [
      "Epoch 1/200: Train Acc 0.0100%, Train Loss 8.8127, Learning Rate 0.0500, Validation Acc 0.0600%\n"
     ]
    },
    {
     "metadata": {
      "tags": null
     },
     "name": "stderr",
     "output_type": "stream",
     "text": []
    },
    {
     "metadata": {
      "tags": null
     },
     "name": "stdout",
     "output_type": "stream",
     "text": [
      "Epoch 2/200: Train Acc 0.1400%, Train Loss 8.4224, Learning Rate 0.0500, Validation Acc 0.4000%\n"
     ]
    },
    {
     "metadata": {
      "tags": null
     },
     "name": "stderr",
     "output_type": "stream",
     "text": []
    },
    {
     "metadata": {
      "tags": null
     },
     "name": "stdout",
     "output_type": "stream",
     "text": [
      "Epoch 3/200: Train Acc 0.7957%, Train Loss 7.7133, Learning Rate 0.0500, Validation Acc 2.0857%\n"
     ]
    },
    {
     "metadata": {
      "tags": null
     },
     "name": "stderr",
     "output_type": "stream",
     "text": []
    },
    {
     "metadata": {
      "tags": null
     },
     "name": "stdout",
     "output_type": "stream",
     "text": [
      "Epoch 4/200: Train Acc 2.8993%, Train Loss 7.0740, Learning Rate 0.0500, Validation Acc 5.0914%\n"
     ]
    },
    {
     "metadata": {
      "tags": null
     },
     "name": "stderr",
     "output_type": "stream",
     "text": []
    },
    {
     "metadata": {
      "tags": null
     },
     "name": "stdout",
     "output_type": "stream",
     "text": [
      "Epoch 5/200: Train Acc 6.7564%, Train Loss 6.5201, Learning Rate 0.0499, Validation Acc 9.9086%\n"
     ]
    },
    {
     "metadata": {
      "tags": null
     },
     "name": "stderr",
     "output_type": "stream",
     "text": []
    },
    {
     "metadata": {
      "tags": null
     },
     "name": "stdout",
     "output_type": "stream",
     "text": [
      "Epoch 6/200: Train Acc 12.5036%, Train Loss 6.0245, Learning Rate 0.0499, Validation Acc 16.9771%\n"
     ]
    },
    {
     "metadata": {
      "tags": null
     },
     "name": "stderr",
     "output_type": "stream",
     "text": []
    },
    {
     "metadata": {
      "tags": null
     },
     "name": "stdout",
     "output_type": "stream",
     "text": [
      "Epoch 7/200: Train Acc 20.0007%, Train Loss 5.5541, Learning Rate 0.0498, Validation Acc 24.0629%\n"
     ]
    },
    {
     "metadata": {
      "tags": null
     },
     "name": "stderr",
     "output_type": "stream",
     "text": []
    },
    {
     "metadata": {
      "tags": null
     },
     "name": "stdout",
     "output_type": "stream",
     "text": [
      "Epoch 8/200: Train Acc 28.3329%, Train Loss 5.1129, Learning Rate 0.0498, Validation Acc 31.4686%\n"
     ]
    },
    {
     "metadata": {
      "tags": null
     },
     "name": "stderr",
     "output_type": "stream",
     "text": []
    },
    {
     "metadata": {
      "tags": null
     },
     "name": "stdout",
     "output_type": "stream",
     "text": [
      "Epoch 9/200: Train Acc 36.3029%, Train Loss 4.7339, Learning Rate 0.0498, Validation Acc 36.2114%\n"
     ]
    },
    {
     "metadata": {
      "tags": null
     },
     "name": "stderr",
     "output_type": "stream",
     "text": []
    },
    {
     "metadata": {
      "tags": null
     },
     "name": "stdout",
     "output_type": "stream",
     "text": [
      "Epoch 10/200: Train Acc 43.6200%, Train Loss 4.4091, Learning Rate 0.0497, Validation Acc 45.6714%\n"
     ]
    },
    {
     "metadata": {
      "tags": null
     },
     "name": "stderr",
     "output_type": "stream",
     "text": []
    },
    {
     "metadata": {
      "tags": null
     },
     "name": "stdout",
     "output_type": "stream",
     "text": [
      "Epoch 11/200: Train Acc 50.2921%, Train Loss 4.1338, Learning Rate 0.0496, Validation Acc 49.5571%\n"
     ]
    },
    {
     "metadata": {
      "tags": null
     },
     "name": "stderr",
     "output_type": "stream",
     "text": []
    },
    {
     "metadata": {
      "tags": null
     },
     "name": "stdout",
     "output_type": "stream",
     "text": [
      "Epoch 12/200: Train Acc 56.0321%, Train Loss 3.8987, Learning Rate 0.0496, Validation Acc 53.1029%\n"
     ]
    },
    {
     "metadata": {
      "tags": null
     },
     "name": "stderr",
     "output_type": "stream",
     "text": []
    },
    {
     "metadata": {
      "tags": null
     },
     "name": "stdout",
     "output_type": "stream",
     "text": [
      "Epoch 13/200: Train Acc 61.2950%, Train Loss 3.6953, Learning Rate 0.0495, Validation Acc 54.9571%\n"
     ]
    },
    {
     "metadata": {
      "tags": null
     },
     "name": "stderr",
     "output_type": "stream",
     "text": []
    },
    {
     "metadata": {
      "tags": null
     },
     "name": "stdout",
     "output_type": "stream",
     "text": [
      "Epoch 14/200: Train Acc 64.9893%, Train Loss 3.5358, Learning Rate 0.0494, Validation Acc 58.8343%\n"
     ]
    },
    {
     "metadata": {
      "tags": null
     },
     "name": "stderr",
     "output_type": "stream",
     "text": []
    },
    {
     "metadata": {
      "tags": null
     },
     "name": "stdout",
     "output_type": "stream",
     "text": [
      "Epoch 15/200: Train Acc 68.6493%, Train Loss 3.3922, Learning Rate 0.0493, Validation Acc 59.7886%\n"
     ]
    },
    {
     "metadata": {
      "tags": null
     },
     "name": "stderr",
     "output_type": "stream",
     "text": []
    },
    {
     "metadata": {
      "tags": null
     },
     "name": "stdout",
     "output_type": "stream",
     "text": [
      "Epoch 16/200: Train Acc 71.8043%, Train Loss 3.2706, Learning Rate 0.0492, Validation Acc 63.3629%\n"
     ]
    },
    {
     "metadata": {
      "tags": null
     },
     "name": "stderr",
     "output_type": "stream",
     "text": []
    },
    {
     "metadata": {
      "tags": null
     },
     "name": "stdout",
     "output_type": "stream",
     "text": [
      "Epoch 17/200: Train Acc 74.4064%, Train Loss 3.1635, Learning Rate 0.0491, Validation Acc 64.6143%\n"
     ]
    },
    {
     "metadata": {
      "tags": null
     },
     "name": "stderr",
     "output_type": "stream",
     "text": []
    },
    {
     "metadata": {
      "tags": null
     },
     "name": "stdout",
     "output_type": "stream",
     "text": [
      "Epoch 18/200: Train Acc 76.9107%, Train Loss 3.0658, Learning Rate 0.0490, Validation Acc 68.1629%\n"
     ]
    },
    {
     "metadata": {
      "tags": null
     },
     "name": "stderr",
     "output_type": "stream",
     "text": []
    },
    {
     "metadata": {
      "tags": null
     },
     "name": "stdout",
     "output_type": "stream",
     "text": [
      "Epoch 19/200: Train Acc 78.9621%, Train Loss 2.9877, Learning Rate 0.0489, Validation Acc 67.7686%\n"
     ]
    },
    {
     "metadata": {
      "tags": null
     },
     "name": "stderr",
     "output_type": "stream",
     "text": []
    },
    {
     "metadata": {
      "tags": null
     },
     "name": "stdout",
     "output_type": "stream",
     "text": [
      "Epoch 20/200: Train Acc 80.7164%, Train Loss 2.9112, Learning Rate 0.0488, Validation Acc 69.7543%\n"
     ]
    },
    {
     "metadata": {
      "tags": null
     },
     "name": "stderr",
     "output_type": "stream",
     "text": []
    },
    {
     "metadata": {
      "tags": null
     },
     "name": "stdout",
     "output_type": "stream",
     "text": [
      "Epoch 21/200: Train Acc 82.2043%, Train Loss 2.8501, Learning Rate 0.0487, Validation Acc 70.7486%\n"
     ]
    },
    {
     "metadata": {
      "tags": null
     },
     "name": "stderr",
     "output_type": "stream",
     "text": []
    },
    {
     "metadata": {
      "tags": null
     },
     "name": "stdout",
     "output_type": "stream",
     "text": [
      "Epoch 22/200: Train Acc 83.7243%, Train Loss 2.7891, Learning Rate 0.0485, Validation Acc 71.1429%\n"
     ]
    },
    {
     "metadata": {
      "tags": null
     },
     "name": "stderr",
     "output_type": "stream",
     "text": []
    },
    {
     "metadata": {
      "tags": null
     },
     "name": "stdout",
     "output_type": "stream",
     "text": [
      "Epoch 23/200: Train Acc 85.2600%, Train Loss 2.7288, Learning Rate 0.0484, Validation Acc 71.4114%\n"
     ]
    },
    {
     "metadata": {
      "tags": null
     },
     "name": "stderr",
     "output_type": "stream",
     "text": []
    },
    {
     "metadata": {
      "tags": null
     },
     "name": "stdout",
     "output_type": "stream",
     "text": [
      "Epoch 24/200: Train Acc 86.5886%, Train Loss 2.6751, Learning Rate 0.0482, Validation Acc 72.1343%\n"
     ]
    },
    {
     "metadata": {
      "tags": null
     },
     "name": "stderr",
     "output_type": "stream",
     "text": []
    },
    {
     "metadata": {
      "tags": null
     },
     "name": "stdout",
     "output_type": "stream",
     "text": [
      "Epoch 25/200: Train Acc 87.6543%, Train Loss 2.6320, Learning Rate 0.0481, Validation Acc 72.5400%\n"
     ]
    },
    {
     "metadata": {
      "tags": null
     },
     "name": "stderr",
     "output_type": "stream",
     "text": []
    },
    {
     "metadata": {
      "tags": null
     },
     "name": "stdout",
     "output_type": "stream",
     "text": [
      "Epoch 26/200: Train Acc 88.5436%, Train Loss 2.5970, Learning Rate 0.0479, Validation Acc 73.4743%\n"
     ]
    },
    {
     "metadata": {
      "tags": null
     },
     "name": "stderr",
     "output_type": "stream",
     "text": []
    },
    {
     "metadata": {
      "tags": null
     },
     "name": "stdout",
     "output_type": "stream",
     "text": [
      "Epoch 27/200: Train Acc 89.6214%, Train Loss 2.5562, Learning Rate 0.0478, Validation Acc 73.6686%\n"
     ]
    },
    {
     "metadata": {
      "tags": null
     },
     "name": "stderr",
     "output_type": "stream",
     "text": []
    },
    {
     "metadata": {
      "tags": null
     },
     "name": "stdout",
     "output_type": "stream",
     "text": [
      "Epoch 28/200: Train Acc 90.4200%, Train Loss 2.5224, Learning Rate 0.0476, Validation Acc 74.1543%\n"
     ]
    },
    {
     "metadata": {
      "tags": null
     },
     "name": "stderr",
     "output_type": "stream",
     "text": []
    },
    {
     "metadata": {
      "tags": null
     },
     "name": "stdout",
     "output_type": "stream",
     "text": [
      "Epoch 29/200: Train Acc 91.3493%, Train Loss 2.4924, Learning Rate 0.0475, Validation Acc 74.8686%\n"
     ]
    },
    {
     "metadata": {
      "tags": null
     },
     "name": "stderr",
     "output_type": "stream",
     "text": []
    },
    {
     "metadata": {
      "tags": null
     },
     "name": "stdout",
     "output_type": "stream",
     "text": [
      "Epoch 30/200: Train Acc 92.1621%, Train Loss 2.4599, Learning Rate 0.0473, Validation Acc 75.4800%\n"
     ]
    },
    {
     "metadata": {
      "tags": null
     },
     "name": "stderr",
     "output_type": "stream",
     "text": []
    },
    {
     "metadata": {
      "tags": null
     },
     "name": "stdout",
     "output_type": "stream",
     "text": [
      "Epoch 31/200: Train Acc 92.5821%, Train Loss 2.4419, Learning Rate 0.0471, Validation Acc 74.0314%\n"
     ]
    },
    {
     "metadata": {
      "tags": null
     },
     "name": "stderr",
     "output_type": "stream",
     "text": []
    },
    {
     "metadata": {
      "tags": null
     },
     "name": "stdout",
     "output_type": "stream",
     "text": [
      "Epoch 32/200: Train Acc 93.2200%, Train Loss 2.4164, Learning Rate 0.0469, Validation Acc 76.0171%\n"
     ]
    },
    {
     "metadata": {
      "tags": null
     },
     "name": "stderr",
     "output_type": "stream",
     "text": []
    },
    {
     "metadata": {
      "tags": null
     },
     "name": "stdout",
     "output_type": "stream",
     "text": [
      "Epoch 33/200: Train Acc 93.7350%, Train Loss 2.3931, Learning Rate 0.0467, Validation Acc 75.5971%\n"
     ]
    },
    {
     "metadata": {
      "tags": null
     },
     "name": "stderr",
     "output_type": "stream",
     "text": []
    },
    {
     "metadata": {
      "tags": null
     },
     "name": "stdout",
     "output_type": "stream",
     "text": [
      "Epoch 34/200: Train Acc 94.2086%, Train Loss 2.3775, Learning Rate 0.0465, Validation Acc 74.8971%\n"
     ]
    },
    {
     "metadata": {
      "tags": null
     },
     "name": "stderr",
     "output_type": "stream",
     "text": []
    },
    {
     "metadata": {
      "tags": null
     },
     "name": "stdout",
     "output_type": "stream",
     "text": [
      "Epoch 35/200: Train Acc 94.3971%, Train Loss 2.3673, Learning Rate 0.0463, Validation Acc 76.6057%\n"
     ]
    },
    {
     "metadata": {
      "tags": null
     },
     "name": "stderr",
     "output_type": "stream",
     "text": []
    },
    {
     "metadata": {
      "tags": null
     },
     "name": "stdout",
     "output_type": "stream",
     "text": [
      "Epoch 36/200: Train Acc 94.8671%, Train Loss 2.3461, Learning Rate 0.0461, Validation Acc 75.7571%\n"
     ]
    },
    {
     "metadata": {
      "tags": null
     },
     "name": "stderr",
     "output_type": "stream",
     "text": []
    },
    {
     "metadata": {
      "tags": null
     },
     "name": "stdout",
     "output_type": "stream",
     "text": [
      "Epoch 37/200: Train Acc 95.1350%, Train Loss 2.3334, Learning Rate 0.0459, Validation Acc 77.5314%\n"
     ]
    },
    {
     "metadata": {
      "tags": null
     },
     "name": "stderr",
     "output_type": "stream",
     "text": []
    },
    {
     "metadata": {
      "tags": null
     },
     "name": "stdout",
     "output_type": "stream",
     "text": [
      "Epoch 38/200: Train Acc 95.3479%, Train Loss 2.3241, Learning Rate 0.0457, Validation Acc 76.8029%\n"
     ]
    },
    {
     "metadata": {
      "tags": null
     },
     "name": "stderr",
     "output_type": "stream",
     "text": []
    },
    {
     "metadata": {
      "tags": null
     },
     "name": "stdout",
     "output_type": "stream",
     "text": [
      "Epoch 39/200: Train Acc 95.8043%, Train Loss 2.3045, Learning Rate 0.0455, Validation Acc 78.1371%\n"
     ]
    },
    {
     "metadata": {
      "tags": null
     },
     "name": "stderr",
     "output_type": "stream",
     "text": []
    },
    {
     "metadata": {
      "tags": null
     },
     "name": "stdout",
     "output_type": "stream",
     "text": [
      "Epoch 40/200: Train Acc 95.9450%, Train Loss 2.2967, Learning Rate 0.0452, Validation Acc 75.7400%\n"
     ]
    },
    {
     "metadata": {
      "tags": null
     },
     "name": "stderr",
     "output_type": "stream",
     "text": []
    },
    {
     "metadata": {
      "tags": null
     },
     "name": "stdout",
     "output_type": "stream",
     "text": [
      "Epoch 41/200: Train Acc 96.0543%, Train Loss 2.2913, Learning Rate 0.0450, Validation Acc 77.9600%\n"
     ]
    },
    {
     "metadata": {
      "tags": null
     },
     "name": "stderr",
     "output_type": "stream",
     "text": []
    },
    {
     "metadata": {
      "tags": null
     },
     "name": "stdout",
     "output_type": "stream",
     "text": [
      "Epoch 42/200: Train Acc 96.3357%, Train Loss 2.2793, Learning Rate 0.0448, Validation Acc 76.5657%\n"
     ]
    },
    {
     "metadata": {
      "tags": null
     },
     "name": "stderr",
     "output_type": "stream",
     "text": []
    },
    {
     "metadata": {
      "tags": null
     },
     "name": "stdout",
     "output_type": "stream",
     "text": [
      "Epoch 43/200: Train Acc 96.4214%, Train Loss 2.2714, Learning Rate 0.0445, Validation Acc 77.8657%\n"
     ]
    },
    {
     "metadata": {
      "tags": null
     },
     "name": "stderr",
     "output_type": "stream",
     "text": []
    },
    {
     "metadata": {
      "tags": null
     },
     "name": "stdout",
     "output_type": "stream",
     "text": [
      "Epoch 44/200: Train Acc 96.6036%, Train Loss 2.2606, Learning Rate 0.0443, Validation Acc 77.0143%\n"
     ]
    },
    {
     "metadata": {
      "tags": null
     },
     "name": "stderr",
     "output_type": "stream",
     "text": []
    },
    {
     "metadata": {
      "tags": null
     },
     "name": "stdout",
     "output_type": "stream",
     "text": [
      "Epoch 45/200: Train Acc 96.7193%, Train Loss 2.2543, Learning Rate 0.0440, Validation Acc 77.6229%\n"
     ]
    },
    {
     "metadata": {
      "tags": null
     },
     "name": "stderr",
     "output_type": "stream",
     "text": []
    },
    {
     "metadata": {
      "tags": null
     },
     "name": "stdout",
     "output_type": "stream",
     "text": [
      "Epoch 46/200: Train Acc 96.8800%, Train Loss 2.2470, Learning Rate 0.0438, Validation Acc 77.1514%\n"
     ]
    },
    {
     "metadata": {
      "tags": null
     },
     "name": "stderr",
     "output_type": "stream",
     "text": []
    },
    {
     "metadata": {
      "tags": null
     },
     "name": "stdout",
     "output_type": "stream",
     "text": [
      "Epoch 47/200: Train Acc 96.9386%, Train Loss 2.2413, Learning Rate 0.0435, Validation Acc 76.9286%\n"
     ]
    },
    {
     "metadata": {
      "tags": null
     },
     "name": "stderr",
     "output_type": "stream",
     "text": []
    },
    {
     "metadata": {
      "tags": null
     },
     "name": "stdout",
     "output_type": "stream",
     "text": [
      "Epoch 48/200: Train Acc 97.0314%, Train Loss 2.2334, Learning Rate 0.0432, Validation Acc 77.6429%\n"
     ]
    },
    {
     "metadata": {
      "tags": null
     },
     "name": "stderr",
     "output_type": "stream",
     "text": []
    },
    {
     "metadata": {
      "tags": null
     },
     "name": "stdout",
     "output_type": "stream",
     "text": [
      "Epoch 49/200: Train Acc 97.2857%, Train Loss 2.2255, Learning Rate 0.0430, Validation Acc 74.7743%\n"
     ]
    },
    {
     "metadata": {
      "tags": null
     },
     "name": "stderr",
     "output_type": "stream",
     "text": []
    },
    {
     "metadata": {
      "tags": null
     },
     "name": "stdout",
     "output_type": "stream",
     "text": [
      "Epoch 50/200: Train Acc 97.3364%, Train Loss 2.2191, Learning Rate 0.0427, Validation Acc 79.0029%\n"
     ]
    },
    {
     "metadata": {
      "tags": null
     },
     "name": "stderr",
     "output_type": "stream",
     "text": []
    },
    {
     "metadata": {
      "tags": null
     },
     "name": "stdout",
     "output_type": "stream",
     "text": [
      "Epoch 51/200: Train Acc 97.3207%, Train Loss 2.2176, Learning Rate 0.0424, Validation Acc 79.1171%\n"
     ]
    },
    {
     "metadata": {
      "tags": null
     },
     "name": "stderr",
     "output_type": "stream",
     "text": []
    },
    {
     "metadata": {
      "tags": null
     },
     "name": "stdout",
     "output_type": "stream",
     "text": [
      "Epoch 52/200: Train Acc 97.3771%, Train Loss 2.2138, Learning Rate 0.0421, Validation Acc 78.4257%\n"
     ]
    },
    {
     "metadata": {
      "tags": null
     },
     "name": "stderr",
     "output_type": "stream",
     "text": []
    },
    {
     "metadata": {
      "tags": null
     },
     "name": "stdout",
     "output_type": "stream",
     "text": [
      "Epoch 53/200: Train Acc 97.3914%, Train Loss 2.2082, Learning Rate 0.0418, Validation Acc 78.1314%\n"
     ]
    },
    {
     "metadata": {
      "tags": null
     },
     "name": "stderr",
     "output_type": "stream",
     "text": []
    },
    {
     "metadata": {
      "tags": null
     },
     "name": "stdout",
     "output_type": "stream",
     "text": [
      "Epoch 54/200: Train Acc 97.6486%, Train Loss 2.1996, Learning Rate 0.0415, Validation Acc 77.8057%\n"
     ]
    },
    {
     "metadata": {
      "tags": null
     },
     "name": "stderr",
     "output_type": "stream",
     "text": []
    },
    {
     "metadata": {
      "tags": null
     },
     "name": "stdout",
     "output_type": "stream",
     "text": [
      "Epoch 55/200: Train Acc 97.7850%, Train Loss 2.1927, Learning Rate 0.0412, Validation Acc 78.6286%\n"
     ]
    },
    {
     "metadata": {
      "tags": null
     },
     "name": "stderr",
     "output_type": "stream",
     "text": []
    },
    {
     "metadata": {
      "tags": null
     },
     "name": "stdout",
     "output_type": "stream",
     "text": [
      "Epoch 56/200: Train Acc 97.7821%, Train Loss 2.1886, Learning Rate 0.0409, Validation Acc 75.5486%\n"
     ]
    },
    {
     "metadata": {
      "tags": null
     },
     "name": "stderr",
     "output_type": "stream",
     "text": []
    },
    {
     "metadata": {
      "tags": null
     },
     "name": "stdout",
     "output_type": "stream",
     "text": [
      "Epoch 57/200: Train Acc 97.8586%, Train Loss 2.1839, Learning Rate 0.0406, Validation Acc 77.1457%\n"
     ]
    },
    {
     "metadata": {
      "tags": null
     },
     "name": "stderr",
     "output_type": "stream",
     "text": []
    },
    {
     "metadata": {
      "tags": null
     },
     "name": "stdout",
     "output_type": "stream",
     "text": [
      "Epoch 58/200: Train Acc 97.9714%, Train Loss 2.1764, Learning Rate 0.0403, Validation Acc 77.3514%\n"
     ]
    },
    {
     "metadata": {
      "tags": null
     },
     "name": "stderr",
     "output_type": "stream",
     "text": []
    },
    {
     "metadata": {
      "tags": null
     },
     "name": "stdout",
     "output_type": "stream",
     "text": [
      "Epoch 59/200: Train Acc 97.9229%, Train Loss 2.1766, Learning Rate 0.0400, Validation Acc 78.1800%\n"
     ]
    },
    {
     "metadata": {
      "tags": null
     },
     "name": "stderr",
     "output_type": "stream",
     "text": []
    },
    {
     "metadata": {
      "tags": null
     },
     "name": "stdout",
     "output_type": "stream",
     "text": [
      "Epoch 60/200: Train Acc 98.0700%, Train Loss 2.1695, Learning Rate 0.0397, Validation Acc 76.6714%\n"
     ]
    },
    {
     "metadata": {
      "tags": null
     },
     "name": "stderr",
     "output_type": "stream",
     "text": []
    },
    {
     "metadata": {
      "tags": null
     },
     "name": "stdout",
     "output_type": "stream",
     "text": [
      "Epoch 61/200: Train Acc 98.0279%, Train Loss 2.1695, Learning Rate 0.0394, Validation Acc 79.4571%\n"
     ]
    },
    {
     "metadata": {
      "tags": null
     },
     "name": "stderr",
     "output_type": "stream",
     "text": []
    },
    {
     "metadata": {
      "tags": null
     },
     "name": "stdout",
     "output_type": "stream",
     "text": [
      "Epoch 62/200: Train Acc 98.2721%, Train Loss 2.1597, Learning Rate 0.0391, Validation Acc 76.2000%\n"
     ]
    },
    {
     "metadata": {
      "tags": null
     },
     "name": "stderr",
     "output_type": "stream",
     "text": []
    },
    {
     "metadata": {
      "tags": null
     },
     "name": "stdout",
     "output_type": "stream",
     "text": [
      "Epoch 63/200: Train Acc 98.2171%, Train Loss 2.1576, Learning Rate 0.0387, Validation Acc 78.0600%\n"
     ]
    },
    {
     "metadata": {
      "tags": null
     },
     "name": "stderr",
     "output_type": "stream",
     "text": []
    },
    {
     "metadata": {
      "tags": null
     },
     "name": "stdout",
     "output_type": "stream",
     "text": [
      "Epoch 64/200: Train Acc 98.2421%, Train Loss 2.1537, Learning Rate 0.0384, Validation Acc 75.5143%\n"
     ]
    },
    {
     "metadata": {
      "tags": null
     },
     "name": "stderr",
     "output_type": "stream",
     "text": []
    },
    {
     "metadata": {
      "tags": null
     },
     "name": "stdout",
     "output_type": "stream",
     "text": [
      "Epoch 65/200: Train Acc 98.3407%, Train Loss 2.1491, Learning Rate 0.0381, Validation Acc 78.2714%\n"
     ]
    },
    {
     "metadata": {
      "tags": null
     },
     "name": "stderr",
     "output_type": "stream",
     "text": []
    },
    {
     "metadata": {
      "tags": null
     },
     "name": "stdout",
     "output_type": "stream",
     "text": [
      "Epoch 66/200: Train Acc 98.3414%, Train Loss 2.1459, Learning Rate 0.0377, Validation Acc 74.9886%\n"
     ]
    },
    {
     "metadata": {
      "tags": null
     },
     "name": "stderr",
     "output_type": "stream",
     "text": []
    },
    {
     "metadata": {
      "tags": null
     },
     "name": "stdout",
     "output_type": "stream",
     "text": [
      "Epoch 67/200: Train Acc 98.4114%, Train Loss 2.1417, Learning Rate 0.0374, Validation Acc 77.6857%\n"
     ]
    },
    {
     "metadata": {
      "tags": null
     },
     "name": "stderr",
     "output_type": "stream",
     "text": []
    },
    {
     "metadata": {
      "tags": null
     },
     "name": "stdout",
     "output_type": "stream",
     "text": [
      "Epoch 68/200: Train Acc 98.4593%, Train Loss 2.1381, Learning Rate 0.0370, Validation Acc 78.1571%\n"
     ]
    },
    {
     "metadata": {
      "tags": null
     },
     "name": "stderr",
     "output_type": "stream",
     "text": []
    },
    {
     "metadata": {
      "tags": null
     },
     "name": "stdout",
     "output_type": "stream",
     "text": [
      "Epoch 69/200: Train Acc 98.4771%, Train Loss 2.1329, Learning Rate 0.0367, Validation Acc 78.3800%\n"
     ]
    },
    {
     "metadata": {
      "tags": null
     },
     "name": "stderr",
     "output_type": "stream",
     "text": []
    },
    {
     "metadata": {
      "tags": null
     },
     "name": "stdout",
     "output_type": "stream",
     "text": [
      "Epoch 70/200: Train Acc 98.5971%, Train Loss 2.1293, Learning Rate 0.0363, Validation Acc 75.1314%\n"
     ]
    },
    {
     "metadata": {
      "tags": null
     },
     "name": "stderr",
     "output_type": "stream",
     "text": []
    },
    {
     "metadata": {
      "tags": null
     },
     "name": "stdout",
     "output_type": "stream",
     "text": [
      "Epoch 71/200: Train Acc 98.6093%, Train Loss 2.1274, Learning Rate 0.0360, Validation Acc 80.7943%\n"
     ]
    },
    {
     "metadata": {
      "tags": null
     },
     "name": "stderr",
     "output_type": "stream",
     "text": []
    },
    {
     "metadata": {
      "tags": null
     },
     "name": "stdout",
     "output_type": "stream",
     "text": [
      "Epoch 72/200: Train Acc 98.6943%, Train Loss 2.1211, Learning Rate 0.0356, Validation Acc 81.3600%\n"
     ]
    },
    {
     "metadata": {
      "tags": null
     },
     "name": "stderr",
     "output_type": "stream",
     "text": []
    },
    {
     "metadata": {
      "tags": null
     },
     "name": "stdout",
     "output_type": "stream",
     "text": [
      "Epoch 73/200: Train Acc 98.6993%, Train Loss 2.1178, Learning Rate 0.0353, Validation Acc 76.5200%\n"
     ]
    },
    {
     "metadata": {
      "tags": null
     },
     "name": "stderr",
     "output_type": "stream",
     "text": []
    },
    {
     "metadata": {
      "tags": null
     },
     "name": "stdout",
     "output_type": "stream",
     "text": [
      "Epoch 74/200: Train Acc 98.7529%, Train Loss 2.1139, Learning Rate 0.0349, Validation Acc 78.9143%\n"
     ]
    },
    {
     "metadata": {
      "tags": null
     },
     "name": "stderr",
     "output_type": "stream",
     "text": []
    },
    {
     "metadata": {
      "tags": null
     },
     "name": "stdout",
     "output_type": "stream",
     "text": [
      "Epoch 75/200: Train Acc 98.7700%, Train Loss 2.1120, Learning Rate 0.0346, Validation Acc 77.9686%\n"
     ]
    },
    {
     "metadata": {
      "tags": null
     },
     "name": "stderr",
     "output_type": "stream",
     "text": []
    },
    {
     "metadata": {
      "tags": null
     },
     "name": "stdout",
     "output_type": "stream",
     "text": [
      "Epoch 76/200: Train Acc 98.8136%, Train Loss 2.1070, Learning Rate 0.0342, Validation Acc 79.5114%\n"
     ]
    },
    {
     "metadata": {
      "tags": null
     },
     "name": "stderr",
     "output_type": "stream",
     "text": []
    },
    {
     "metadata": {
      "tags": null
     },
     "name": "stdout",
     "output_type": "stream",
     "text": [
      "Epoch 77/200: Train Acc 98.7914%, Train Loss 2.1067, Learning Rate 0.0338, Validation Acc 76.9971%\n"
     ]
    },
    {
     "metadata": {
      "tags": null
     },
     "name": "stderr",
     "output_type": "stream",
     "text": []
    },
    {
     "metadata": {
      "tags": null
     },
     "name": "stdout",
     "output_type": "stream",
     "text": [
      "Epoch 78/200: Train Acc 98.9279%, Train Loss 2.0992, Learning Rate 0.0335, Validation Acc 75.1714%\n"
     ]
    },
    {
     "metadata": {
      "tags": null
     },
     "name": "stderr",
     "output_type": "stream",
     "text": []
    },
    {
     "metadata": {
      "tags": null
     },
     "name": "stdout",
     "output_type": "stream",
     "text": [
      "Epoch 79/200: Train Acc 98.9114%, Train Loss 2.0976, Learning Rate 0.0331, Validation Acc 77.7886%\n"
     ]
    },
    {
     "metadata": {
      "tags": null
     },
     "name": "stderr",
     "output_type": "stream",
     "text": []
    },
    {
     "metadata": {
      "tags": null
     },
     "name": "stdout",
     "output_type": "stream",
     "text": [
      "Epoch 80/200: Train Acc 98.9486%, Train Loss 2.0949, Learning Rate 0.0327, Validation Acc 80.2486%\n"
     ]
    },
    {
     "metadata": {
      "tags": null
     },
     "name": "stderr",
     "output_type": "stream",
     "text": []
    },
    {
     "metadata": {
      "tags": null
     },
     "name": "stdout",
     "output_type": "stream",
     "text": [
      "Epoch 81/200: Train Acc 98.9529%, Train Loss 2.0928, Learning Rate 0.0324, Validation Acc 75.7657%\n"
     ]
    },
    {
     "metadata": {
      "tags": null
     },
     "name": "stderr",
     "output_type": "stream",
     "text": []
    },
    {
     "metadata": {
      "tags": null
     },
     "name": "stdout",
     "output_type": "stream",
     "text": [
      "Epoch 82/200: Train Acc 99.0043%, Train Loss 2.0892, Learning Rate 0.0320, Validation Acc 79.7600%\n"
     ]
    },
    {
     "metadata": {
      "tags": null
     },
     "name": "stderr",
     "output_type": "stream",
     "text": []
    },
    {
     "metadata": {
      "tags": null
     },
     "name": "stdout",
     "output_type": "stream",
     "text": [
      "Epoch 83/200: Train Acc 99.0421%, Train Loss 2.0858, Learning Rate 0.0316, Validation Acc 81.3457%\n"
     ]
    },
    {
     "metadata": {
      "tags": null
     },
     "name": "stderr",
     "output_type": "stream",
     "text": []
    },
    {
     "metadata": {
      "tags": null
     },
     "name": "stdout",
     "output_type": "stream",
     "text": [
      "Epoch 84/200: Train Acc 99.0521%, Train Loss 2.0823, Learning Rate 0.0312, Validation Acc 78.9800%\n"
     ]
    },
    {
     "metadata": {
      "tags": null
     },
     "name": "stderr",
     "output_type": "stream",
     "text": []
    },
    {
     "metadata": {
      "tags": null
     },
     "name": "stdout",
     "output_type": "stream",
     "text": [
      "Epoch 85/200: Train Acc 99.0629%, Train Loss 2.0802, Learning Rate 0.0308, Validation Acc 78.5114%\n"
     ]
    },
    {
     "metadata": {
      "tags": null
     },
     "name": "stderr",
     "output_type": "stream",
     "text": []
    },
    {
     "metadata": {
      "tags": null
     },
     "name": "stdout",
     "output_type": "stream",
     "text": [
      "Epoch 86/200: Train Acc 99.1286%, Train Loss 2.0767, Learning Rate 0.0305, Validation Acc 81.0114%\n"
     ]
    },
    {
     "metadata": {
      "tags": null
     },
     "name": "stderr",
     "output_type": "stream",
     "text": []
    },
    {
     "metadata": {
      "tags": null
     },
     "name": "stdout",
     "output_type": "stream",
     "text": [
      "Epoch 87/200: Train Acc 99.1336%, Train Loss 2.0733, Learning Rate 0.0301, Validation Acc 79.1657%\n"
     ]
    },
    {
     "metadata": {
      "tags": null
     },
     "name": "stderr",
     "output_type": "stream",
     "text": []
    },
    {
     "metadata": {
      "tags": null
     },
     "name": "stdout",
     "output_type": "stream",
     "text": [
      "Epoch 88/200: Train Acc 99.1814%, Train Loss 2.0681, Learning Rate 0.0297, Validation Acc 71.5943%\n"
     ]
    },
    {
     "metadata": {
      "tags": null
     },
     "name": "stderr",
     "output_type": "stream",
     "text": []
    },
    {
     "metadata": {
      "tags": null
     },
     "name": "stdout",
     "output_type": "stream",
     "text": [
      "Epoch 89/200: Train Acc 99.2350%, Train Loss 2.0666, Learning Rate 0.0293, Validation Acc 80.9086%\n"
     ]
    },
    {
     "metadata": {
      "tags": null
     },
     "name": "stderr",
     "output_type": "stream",
     "text": []
    },
    {
     "metadata": {
      "tags": null
     },
     "name": "stdout",
     "output_type": "stream",
     "text": [
      "Epoch 90/200: Train Acc 99.2143%, Train Loss 2.0624, Learning Rate 0.0289, Validation Acc 78.2400%\n"
     ]
    },
    {
     "metadata": {
      "tags": null
     },
     "name": "stderr",
     "output_type": "stream",
     "text": []
    },
    {
     "metadata": {
      "tags": null
     },
     "name": "stdout",
     "output_type": "stream",
     "text": [
      "Epoch 91/200: Train Acc 99.2400%, Train Loss 2.0619, Learning Rate 0.0285, Validation Acc 72.2200%\n"
     ]
    },
    {
     "metadata": {
      "tags": null
     },
     "name": "stderr",
     "output_type": "stream",
     "text": []
    },
    {
     "metadata": {
      "tags": null
     },
     "name": "stdout",
     "output_type": "stream",
     "text": [
      "Epoch 92/200: Train Acc 99.3107%, Train Loss 2.0574, Learning Rate 0.0281, Validation Acc 77.6943%\n"
     ]
    },
    {
     "metadata": {
      "tags": null
     },
     "name": "stderr",
     "output_type": "stream",
     "text": []
    },
    {
     "metadata": {
      "tags": null
     },
     "name": "stdout",
     "output_type": "stream",
     "text": [
      "Epoch 93/200: Train Acc 99.2579%, Train Loss 2.0559, Learning Rate 0.0277, Validation Acc 79.5486%\n"
     ]
    },
    {
     "metadata": {
      "tags": null
     },
     "name": "stderr",
     "output_type": "stream",
     "text": []
    },
    {
     "metadata": {
      "tags": null
     },
     "name": "stdout",
     "output_type": "stream",
     "text": [
      "Epoch 94/200: Train Acc 99.3643%, Train Loss 2.0519, Learning Rate 0.0274, Validation Acc 81.5457%\n"
     ]
    },
    {
     "metadata": {
      "tags": null
     },
     "name": "stderr",
     "output_type": "stream",
     "text": []
    },
    {
     "metadata": {
      "tags": null
     },
     "name": "stdout",
     "output_type": "stream",
     "text": [
      "Epoch 95/200: Train Acc 99.3543%, Train Loss 2.0480, Learning Rate 0.0270, Validation Acc 72.5943%\n"
     ]
    },
    {
     "metadata": {
      "tags": null
     },
     "name": "stderr",
     "output_type": "stream",
     "text": []
    },
    {
     "metadata": {
      "tags": null
     },
     "name": "stdout",
     "output_type": "stream",
     "text": [
      "Epoch 96/200: Train Acc 99.3529%, Train Loss 2.0472, Learning Rate 0.0266, Validation Acc 72.0943%\n"
     ]
    },
    {
     "metadata": {
      "tags": null
     },
     "name": "stderr",
     "output_type": "stream",
     "text": []
    },
    {
     "metadata": {
      "tags": null
     },
     "name": "stdout",
     "output_type": "stream",
     "text": [
      "Epoch 97/200: Train Acc 99.4129%, Train Loss 2.0428, Learning Rate 0.0262, Validation Acc 79.9686%\n"
     ]
    },
    {
     "metadata": {
      "tags": null
     },
     "name": "stderr",
     "output_type": "stream",
     "text": []
    },
    {
     "metadata": {
      "tags": null
     },
     "name": "stdout",
     "output_type": "stream",
     "text": [
      "Epoch 98/200: Train Acc 99.4071%, Train Loss 2.0411, Learning Rate 0.0258, Validation Acc 81.0371%\n"
     ]
    },
    {
     "metadata": {
      "tags": null
     },
     "name": "stderr",
     "output_type": "stream",
     "text": []
    },
    {
     "metadata": {
      "tags": null
     },
     "name": "stdout",
     "output_type": "stream",
     "text": [
      "Epoch 99/200: Train Acc 99.4371%, Train Loss 2.0380, Learning Rate 0.0254, Validation Acc 79.4200%\n"
     ]
    },
    {
     "metadata": {
      "tags": null
     },
     "name": "stderr",
     "output_type": "stream",
     "text": []
    },
    {
     "metadata": {
      "tags": null
     },
     "name": "stdout",
     "output_type": "stream",
     "text": [
      "Epoch 100/200: Train Acc 99.4500%, Train Loss 2.0355, Learning Rate 0.0250, Validation Acc 77.3457%\n"
     ]
    },
    {
     "metadata": {
      "tags": null
     },
     "name": "stderr",
     "output_type": "stream",
     "text": []
    },
    {
     "metadata": {
      "tags": null
     },
     "name": "stdout",
     "output_type": "stream",
     "text": [
      "Epoch 101/200: Train Acc 99.4629%, Train Loss 2.0323, Learning Rate 0.0246, Validation Acc 75.6086%\n"
     ]
    },
    {
     "metadata": {
      "tags": null
     },
     "name": "stderr",
     "output_type": "stream",
     "text": []
    },
    {
     "metadata": {
      "tags": null
     },
     "name": "stdout",
     "output_type": "stream",
     "text": [
      "Epoch 102/200: Train Acc 99.4986%, Train Loss 2.0313, Learning Rate 0.0242, Validation Acc 73.2000%\n"
     ]
    },
    {
     "metadata": {
      "tags": null
     },
     "name": "stderr",
     "output_type": "stream",
     "text": []
    },
    {
     "metadata": {
      "tags": null
     },
     "name": "stdout",
     "output_type": "stream",
     "text": [
      "Epoch 103/200: Train Acc 99.4979%, Train Loss 2.0272, Learning Rate 0.0238, Validation Acc 78.1057%\n"
     ]
    },
    {
     "metadata": {
      "tags": null
     },
     "name": "stderr",
     "output_type": "stream",
     "text": []
    },
    {
     "metadata": {
      "tags": null
     },
     "name": "stdout",
     "output_type": "stream",
     "text": [
      "Epoch 104/200: Train Acc 99.4993%, Train Loss 2.0253, Learning Rate 0.0234, Validation Acc 79.3857%\n"
     ]
    },
    {
     "metadata": {
      "tags": null
     },
     "name": "stderr",
     "output_type": "stream",
     "text": []
    },
    {
     "metadata": {
      "tags": null
     },
     "name": "stdout",
     "output_type": "stream",
     "text": [
      "Epoch 105/200: Train Acc 99.5400%, Train Loss 2.0228, Learning Rate 0.0230, Validation Acc 79.9686%\n"
     ]
    },
    {
     "metadata": {
      "tags": null
     },
     "name": "stderr",
     "output_type": "stream",
     "text": []
    },
    {
     "metadata": {
      "tags": null
     },
     "name": "stdout",
     "output_type": "stream",
     "text": [
      "Epoch 106/200: Train Acc 99.5686%, Train Loss 2.0187, Learning Rate 0.0226, Validation Acc 74.6057%\n"
     ]
    },
    {
     "metadata": {
      "tags": null
     },
     "name": "stderr",
     "output_type": "stream",
     "text": []
    },
    {
     "metadata": {
      "tags": null
     },
     "name": "stdout",
     "output_type": "stream",
     "text": [
      "Epoch 107/200: Train Acc 99.5407%, Train Loss 2.0190, Learning Rate 0.0223, Validation Acc 77.6057%\n"
     ]
    },
    {
     "metadata": {
      "tags": null
     },
     "name": "stderr",
     "output_type": "stream",
     "text": []
    },
    {
     "metadata": {
      "tags": null
     },
     "name": "stdout",
     "output_type": "stream",
     "text": [
      "Epoch 108/200: Train Acc 99.5693%, Train Loss 2.0141, Learning Rate 0.0219, Validation Acc 78.9800%\n"
     ]
    },
    {
     "metadata": {
      "tags": null
     },
     "name": "stderr",
     "output_type": "stream",
     "text": []
    },
    {
     "metadata": {
      "tags": null
     },
     "name": "stdout",
     "output_type": "stream",
     "text": [
      "Epoch 109/200: Train Acc 99.5650%, Train Loss 2.0129, Learning Rate 0.0215, Validation Acc 72.8857%\n"
     ]
    },
    {
     "metadata": {
      "tags": null
     },
     "name": "stderr",
     "output_type": "stream",
     "text": []
    },
    {
     "metadata": {
      "tags": null
     },
     "name": "stdout",
     "output_type": "stream",
     "text": [
      "Epoch 110/200: Train Acc 99.6079%, Train Loss 2.0092, Learning Rate 0.0211, Validation Acc 81.8686%\n"
     ]
    },
    {
     "metadata": {
      "tags": null
     },
     "name": "stderr",
     "output_type": "stream",
     "text": []
    },
    {
     "metadata": {
      "tags": null
     },
     "name": "stdout",
     "output_type": "stream",
     "text": [
      "Epoch 111/200: Train Acc 99.6250%, Train Loss 2.0062, Learning Rate 0.0207, Validation Acc 82.0943%\n"
     ]
    },
    {
     "metadata": {
      "tags": null
     },
     "name": "stderr",
     "output_type": "stream",
     "text": []
    },
    {
     "metadata": {
      "tags": null
     },
     "name": "stdout",
     "output_type": "stream",
     "text": [
      "Epoch 112/200: Train Acc 99.6271%, Train Loss 2.0044, Learning Rate 0.0203, Validation Acc 77.9086%\n"
     ]
    },
    {
     "metadata": {
      "tags": null
     },
     "name": "stderr",
     "output_type": "stream",
     "text": []
    },
    {
     "metadata": {
      "tags": null
     },
     "name": "stdout",
     "output_type": "stream",
     "text": [
      "Epoch 113/200: Train Acc 99.6486%, Train Loss 2.0020, Learning Rate 0.0199, Validation Acc 79.4543%\n"
     ]
    },
    {
     "metadata": {
      "tags": null
     },
     "name": "stderr",
     "output_type": "stream",
     "text": []
    },
    {
     "metadata": {
      "tags": null
     },
     "name": "stdout",
     "output_type": "stream",
     "text": [
      "Epoch 114/200: Train Acc 99.6421%, Train Loss 2.0012, Learning Rate 0.0195, Validation Acc 79.5257%\n"
     ]
    },
    {
     "metadata": {
      "tags": null
     },
     "name": "stderr",
     "output_type": "stream",
     "text": []
    },
    {
     "metadata": {
      "tags": null
     },
     "name": "stdout",
     "output_type": "stream",
     "text": [
      "Epoch 115/200: Train Acc 99.6600%, Train Loss 1.9975, Learning Rate 0.0192, Validation Acc 76.2114%\n"
     ]
    },
    {
     "metadata": {
      "tags": null
     },
     "name": "stderr",
     "output_type": "stream",
     "text": []
    },
    {
     "metadata": {
      "tags": null
     },
     "name": "stdout",
     "output_type": "stream",
     "text": [
      "Epoch 116/200: Train Acc 99.6736%, Train Loss 1.9953, Learning Rate 0.0188, Validation Acc 77.9971%\n"
     ]
    },
    {
     "metadata": {
      "tags": null
     },
     "name": "stderr",
     "output_type": "stream",
     "text": []
    },
    {
     "metadata": {
      "tags": null
     },
     "name": "stdout",
     "output_type": "stream",
     "text": [
      "Epoch 117/200: Train Acc 99.6679%, Train Loss 1.9944, Learning Rate 0.0184, Validation Acc 80.4771%\n"
     ]
    },
    {
     "metadata": {
      "tags": null
     },
     "name": "stderr",
     "output_type": "stream",
     "text": []
    },
    {
     "metadata": {
      "tags": null
     },
     "name": "stdout",
     "output_type": "stream",
     "text": [
      "Epoch 118/200: Train Acc 99.6886%, Train Loss 1.9910, Learning Rate 0.0180, Validation Acc 80.6486%\n"
     ]
    },
    {
     "metadata": {
      "tags": null
     },
     "name": "stderr",
     "output_type": "stream",
     "text": []
    },
    {
     "metadata": {
      "tags": null
     },
     "name": "stdout",
     "output_type": "stream",
     "text": [
      "Epoch 119/200: Train Acc 99.6886%, Train Loss 1.9897, Learning Rate 0.0176, Validation Acc 80.6057%\n"
     ]
    },
    {
     "metadata": {
      "tags": null
     },
     "name": "stderr",
     "output_type": "stream",
     "text": []
    },
    {
     "metadata": {
      "tags": null
     },
     "name": "stdout",
     "output_type": "stream",
     "text": [
      "Epoch 120/200: Train Acc 99.7150%, Train Loss 1.9869, Learning Rate 0.0173, Validation Acc 79.0486%\n"
     ]
    },
    {
     "metadata": {
      "tags": null
     },
     "name": "stderr",
     "output_type": "stream",
     "text": []
    },
    {
     "metadata": {
      "tags": null
     },
     "name": "stdout",
     "output_type": "stream",
     "text": [
      "Epoch 121/200: Train Acc 99.7171%, Train Loss 1.9844, Learning Rate 0.0169, Validation Acc 82.5486%\n"
     ]
    },
    {
     "metadata": {
      "tags": null
     },
     "name": "stderr",
     "output_type": "stream",
     "text": []
    },
    {
     "metadata": {
      "tags": null
     },
     "name": "stdout",
     "output_type": "stream",
     "text": [
      "Epoch 122/200: Train Acc 99.7121%, Train Loss 1.9827, Learning Rate 0.0165, Validation Acc 82.6971%\n"
     ]
    },
    {
     "metadata": {
      "tags": null
     },
     "name": "stderr",
     "output_type": "stream",
     "text": []
    },
    {
     "metadata": {
      "tags": null
     },
     "name": "stdout",
     "output_type": "stream",
     "text": [
      "Epoch 123/200: Train Acc 99.7479%, Train Loss 1.9798, Learning Rate 0.0162, Validation Acc 83.2057%\n"
     ]
    },
    {
     "metadata": {
      "tags": null
     },
     "name": "stderr",
     "output_type": "stream",
     "text": []
    },
    {
     "metadata": {
      "tags": null
     },
     "name": "stdout",
     "output_type": "stream",
     "text": [
      "Epoch 124/200: Train Acc 99.7407%, Train Loss 1.9775, Learning Rate 0.0158, Validation Acc 82.0543%\n"
     ]
    },
    {
     "metadata": {
      "tags": null
     },
     "name": "stderr",
     "output_type": "stream",
     "text": []
    },
    {
     "metadata": {
      "tags": null
     },
     "name": "stdout",
     "output_type": "stream",
     "text": [
      "Epoch 125/200: Train Acc 99.7629%, Train Loss 1.9756, Learning Rate 0.0154, Validation Acc 82.6800%\n"
     ]
    },
    {
     "metadata": {
      "tags": null
     },
     "name": "stderr",
     "output_type": "stream",
     "text": []
    },
    {
     "metadata": {
      "tags": null
     },
     "name": "stdout",
     "output_type": "stream",
     "text": [
      "Epoch 126/200: Train Acc 99.7493%, Train Loss 1.9744, Learning Rate 0.0151, Validation Acc 83.4114%\n"
     ]
    },
    {
     "metadata": {
      "tags": null
     },
     "name": "stderr",
     "output_type": "stream",
     "text": []
    },
    {
     "metadata": {
      "tags": null
     },
     "name": "stdout",
     "output_type": "stream",
     "text": [
      "Epoch 127/200: Train Acc 99.7700%, Train Loss 1.9715, Learning Rate 0.0147, Validation Acc 81.2229%\n"
     ]
    },
    {
     "metadata": {
      "tags": null
     },
     "name": "stderr",
     "output_type": "stream",
     "text": []
    },
    {
     "metadata": {
      "tags": null
     },
     "name": "stdout",
     "output_type": "stream",
     "text": [
      "Epoch 128/200: Train Acc 99.7879%, Train Loss 1.9689, Learning Rate 0.0144, Validation Acc 81.4600%\n"
     ]
    },
    {
     "metadata": {
      "tags": null
     },
     "name": "stderr",
     "output_type": "stream",
     "text": []
    },
    {
     "metadata": {
      "tags": null
     },
     "name": "stdout",
     "output_type": "stream",
     "text": [
      "Epoch 129/200: Train Acc 99.7971%, Train Loss 1.9670, Learning Rate 0.0140, Validation Acc 81.2543%\n"
     ]
    },
    {
     "metadata": {
      "tags": null
     },
     "name": "stderr",
     "output_type": "stream",
     "text": []
    },
    {
     "metadata": {
      "tags": null
     },
     "name": "stdout",
     "output_type": "stream",
     "text": [
      "Epoch 130/200: Train Acc 99.7950%, Train Loss 1.9645, Learning Rate 0.0137, Validation Acc 80.8314%\n"
     ]
    },
    {
     "metadata": {
      "tags": null
     },
     "name": "stderr",
     "output_type": "stream",
     "text": []
    },
    {
     "metadata": {
      "tags": null
     },
     "name": "stdout",
     "output_type": "stream",
     "text": [
      "Epoch 131/200: Train Acc 99.7850%, Train Loss 1.9651, Learning Rate 0.0133, Validation Acc 81.5486%\n"
     ]
    },
    {
     "metadata": {
      "tags": null
     },
     "name": "stderr",
     "output_type": "stream",
     "text": []
    },
    {
     "name": "stdout",
     "output_type": "stream",
     "text": [
      "Epoch 132/200: Train Acc 99.8014%, Train Loss 1.9623, Learning Rate 0.0130, Validation Acc 80.4743%\n"
     ]
    },
    {
     "name": "stderr",
     "output_type": "stream",
     "text": []
    },
    {
     "name": "stdout",
     "output_type": "stream",
     "text": [
      "Epoch 133/200: Train Acc 99.8007%, Train Loss 1.9598, Learning Rate 0.0126, Validation Acc 81.5229%\n"
     ]
    },
    {
     "name": "stderr",
     "output_type": "stream",
     "text": []
    },
    {
     "name": "stdout",
     "output_type": "stream",
     "text": [
      "Epoch 134/200: Train Acc 99.8193%, Train Loss 1.9584, Learning Rate 0.0123, Validation Acc 77.8514%\n"
     ]
    },
    {
     "name": "stderr",
     "output_type": "stream",
     "text": []
    },
    {
     "name": "stdout",
     "output_type": "stream",
     "text": [
      "Epoch 135/200: Train Acc 99.8143%, Train Loss 1.9566, Learning Rate 0.0119, Validation Acc 79.0971%\n"
     ]
    },
    {
     "name": "stderr",
     "output_type": "stream",
     "text": []
    },
    {
     "name": "stdout",
     "output_type": "stream",
     "text": [
      "Epoch 136/200: Train Acc 99.8336%, Train Loss 1.9538, Learning Rate 0.0116, Validation Acc 82.7543%\n"
     ]
    },
    {
     "name": "stderr",
     "output_type": "stream",
     "text": []
    },
    {
     "name": "stdout",
     "output_type": "stream",
     "text": [
      "Epoch 137/200: Train Acc 99.8229%, Train Loss 1.9531, Learning Rate 0.0113, Validation Acc 82.7543%\n"
     ]
    },
    {
     "name": "stderr",
     "output_type": "stream",
     "text": []
    },
    {
     "name": "stdout",
     "output_type": "stream",
     "text": [
      "Epoch 138/200: Train Acc 99.8486%, Train Loss 1.9512, Learning Rate 0.0109, Validation Acc 80.0714%\n"
     ]
    },
    {
     "name": "stderr",
     "output_type": "stream",
     "text": []
    },
    {
     "name": "stdout",
     "output_type": "stream",
     "text": [
      "Epoch 139/200: Train Acc 99.8393%, Train Loss 1.9486, Learning Rate 0.0106, Validation Acc 82.0171%\n"
     ]
    },
    {
     "name": "stderr",
     "output_type": "stream",
     "text": []
    },
    {
     "name": "stdout",
     "output_type": "stream",
     "text": [
      "Epoch 140/200: Train Acc 99.8379%, Train Loss 1.9472, Learning Rate 0.0103, Validation Acc 82.2171%\n"
     ]
    },
    {
     "name": "stderr",
     "output_type": "stream",
     "text": []
    },
    {
     "name": "stdout",
     "output_type": "stream",
     "text": [
      "Epoch 141/200: Train Acc 99.8407%, Train Loss 1.9457, Learning Rate 0.0100, Validation Acc 83.5686%\n"
     ]
    },
    {
     "name": "stderr",
     "output_type": "stream",
     "text": []
    },
    {
     "name": "stdout",
     "output_type": "stream",
     "text": [
      "Epoch 142/200: Train Acc 99.8514%, Train Loss 1.9425, Learning Rate 0.0097, Validation Acc 84.3686%\n"
     ]
    },
    {
     "name": "stderr",
     "output_type": "stream",
     "text": []
    },
    {
     "name": "stdout",
     "output_type": "stream",
     "text": [
      "Epoch 143/200: Train Acc 99.8400%, Train Loss 1.9421, Learning Rate 0.0094, Validation Acc 84.1171%\n"
     ]
    },
    {
     "name": "stderr",
     "output_type": "stream",
     "text": []
    },
    {
     "name": "stdout",
     "output_type": "stream",
     "text": [
      "Epoch 144/200: Train Acc 99.8621%, Train Loss 1.9393, Learning Rate 0.0091, Validation Acc 81.7457%\n"
     ]
    },
    {
     "name": "stderr",
     "output_type": "stream",
     "text": []
    },
    {
     "name": "stdout",
     "output_type": "stream",
     "text": [
      "Epoch 145/200: Train Acc 99.8371%, Train Loss 1.9393, Learning Rate 0.0088, Validation Acc 83.9057%\n"
     ]
    },
    {
     "name": "stderr",
     "output_type": "stream",
     "text": []
    },
    {
     "name": "stdout",
     "output_type": "stream",
     "text": [
      "Epoch 146/200: Train Acc 99.8764%, Train Loss 1.9370, Learning Rate 0.0085, Validation Acc 84.8800%\n"
     ]
    },
    {
     "name": "stderr",
     "output_type": "stream",
     "text": []
    },
    {
     "name": "stdout",
     "output_type": "stream",
     "text": [
      "Epoch 147/200: Train Acc 99.8686%, Train Loss 1.9350, Learning Rate 0.0082, Validation Acc 84.2743%\n"
     ]
    },
    {
     "name": "stderr",
     "output_type": "stream",
     "text": []
    },
    {
     "name": "stdout",
     "output_type": "stream",
     "text": [
      "Epoch 148/200: Train Acc 99.8836%, Train Loss 1.9335, Learning Rate 0.0079, Validation Acc 82.4000%\n"
     ]
    },
    {
     "name": "stderr",
     "output_type": "stream",
     "text": []
    },
    {
     "name": "stdout",
     "output_type": "stream",
     "text": [
      "Epoch 149/200: Train Acc 99.8857%, Train Loss 1.9317, Learning Rate 0.0076, Validation Acc 83.2629%\n"
     ]
    },
    {
     "name": "stderr",
     "output_type": "stream",
     "text": []
    },
    {
     "name": "stdout",
     "output_type": "stream",
     "text": [
      "Epoch 150/200: Train Acc 99.8879%, Train Loss 1.9306, Learning Rate 0.0073, Validation Acc 84.6971%\n"
     ]
    },
    {
     "name": "stderr",
     "output_type": "stream",
     "text": []
    },
    {
     "name": "stdout",
     "output_type": "stream",
     "text": [
      "Epoch 151/200: Train Acc 99.8879%, Train Loss 1.9286, Learning Rate 0.0070, Validation Acc 82.8657%\n"
     ]
    },
    {
     "name": "stderr",
     "output_type": "stream",
     "text": []
    },
    {
     "name": "stdout",
     "output_type": "stream",
     "text": [
      "Epoch 152/200: Train Acc 99.8957%, Train Loss 1.9268, Learning Rate 0.0068, Validation Acc 86.1086%\n"
     ]
    },
    {
     "name": "stderr",
     "output_type": "stream",
     "text": []
    },
    {
     "name": "stdout",
     "output_type": "stream",
     "text": [
      "Epoch 153/200: Train Acc 99.8814%, Train Loss 1.9260, Learning Rate 0.0065, Validation Acc 84.4486%\n"
     ]
    },
    {
     "name": "stderr",
     "output_type": "stream",
     "text": [
      "Train:   1%|▏         | 8/560 [00:08<07:03,  1.30it/s, acc=100.0000%, loss=1.9212, lr=0.0065, num_correct=2000]"
     ]
    },
    {
     "ename": "KeyboardInterrupt",
     "evalue": "ignored",
     "output_type": "error",
     "traceback": [
      "\u001b[0;31m---------------------------------------------------------------------------\u001b[0m",
      "\u001b[0;31mKeyboardInterrupt\u001b[0m                         Traceback (most recent call last)",
      "\u001b[0;32m<ipython-input-14-5412c66a0864>\u001b[0m in \u001b[0;36m<module>\u001b[0;34m()\u001b[0m\n\u001b[1;32m     10\u001b[0m     \u001b[0mtotal_loss\u001b[0m \u001b[0;34m=\u001b[0m \u001b[0;36m0\u001b[0m\u001b[0;34m\u001b[0m\u001b[0;34m\u001b[0m\u001b[0m\n\u001b[1;32m     11\u001b[0m \u001b[0;34m\u001b[0m\u001b[0m\n\u001b[0;32m---> 12\u001b[0;31m     \u001b[0;32mfor\u001b[0m \u001b[0mi\u001b[0m\u001b[0;34m,\u001b[0m \u001b[0;34m(\u001b[0m\u001b[0mx\u001b[0m\u001b[0;34m,\u001b[0m \u001b[0my\u001b[0m\u001b[0;34m)\u001b[0m \u001b[0;32min\u001b[0m \u001b[0menumerate\u001b[0m\u001b[0;34m(\u001b[0m\u001b[0mtrain_loader\u001b[0m\u001b[0;34m)\u001b[0m\u001b[0;34m:\u001b[0m\u001b[0;34m\u001b[0m\u001b[0;34m\u001b[0m\u001b[0m\n\u001b[0m\u001b[1;32m     13\u001b[0m         \u001b[0moptimizer\u001b[0m\u001b[0;34m.\u001b[0m\u001b[0mzero_grad\u001b[0m\u001b[0;34m(\u001b[0m\u001b[0;34m)\u001b[0m\u001b[0;34m\u001b[0m\u001b[0;34m\u001b[0m\u001b[0m\n\u001b[1;32m     14\u001b[0m \u001b[0;34m\u001b[0m\u001b[0m\n",
      "\u001b[0;32m/usr/local/lib/python3.7/dist-packages/torch/utils/data/dataloader.py\u001b[0m in \u001b[0;36m__next__\u001b[0;34m(self)\u001b[0m\n\u001b[1;32m    519\u001b[0m             \u001b[0;32mif\u001b[0m \u001b[0mself\u001b[0m\u001b[0;34m.\u001b[0m\u001b[0m_sampler_iter\u001b[0m \u001b[0;32mis\u001b[0m \u001b[0;32mNone\u001b[0m\u001b[0;34m:\u001b[0m\u001b[0;34m\u001b[0m\u001b[0;34m\u001b[0m\u001b[0m\n\u001b[1;32m    520\u001b[0m                 \u001b[0mself\u001b[0m\u001b[0;34m.\u001b[0m\u001b[0m_reset\u001b[0m\u001b[0;34m(\u001b[0m\u001b[0;34m)\u001b[0m\u001b[0;34m\u001b[0m\u001b[0;34m\u001b[0m\u001b[0m\n\u001b[0;32m--> 521\u001b[0;31m             \u001b[0mdata\u001b[0m \u001b[0;34m=\u001b[0m \u001b[0mself\u001b[0m\u001b[0;34m.\u001b[0m\u001b[0m_next_data\u001b[0m\u001b[0;34m(\u001b[0m\u001b[0;34m)\u001b[0m\u001b[0;34m\u001b[0m\u001b[0;34m\u001b[0m\u001b[0m\n\u001b[0m\u001b[1;32m    522\u001b[0m             \u001b[0mself\u001b[0m\u001b[0;34m.\u001b[0m\u001b[0m_num_yielded\u001b[0m \u001b[0;34m+=\u001b[0m \u001b[0;36m1\u001b[0m\u001b[0;34m\u001b[0m\u001b[0;34m\u001b[0m\u001b[0m\n\u001b[1;32m    523\u001b[0m             \u001b[0;32mif\u001b[0m \u001b[0mself\u001b[0m\u001b[0;34m.\u001b[0m\u001b[0m_dataset_kind\u001b[0m \u001b[0;34m==\u001b[0m \u001b[0m_DatasetKind\u001b[0m\u001b[0;34m.\u001b[0m\u001b[0mIterable\u001b[0m \u001b[0;32mand\u001b[0m\u001b[0;31m \u001b[0m\u001b[0;31m\\\u001b[0m\u001b[0;34m\u001b[0m\u001b[0;34m\u001b[0m\u001b[0m\n",
      "\u001b[0;32m/usr/local/lib/python3.7/dist-packages/torch/utils/data/dataloader.py\u001b[0m in \u001b[0;36m_next_data\u001b[0;34m(self)\u001b[0m\n\u001b[1;32m   1184\u001b[0m \u001b[0;34m\u001b[0m\u001b[0m\n\u001b[1;32m   1185\u001b[0m             \u001b[0;32massert\u001b[0m \u001b[0;32mnot\u001b[0m \u001b[0mself\u001b[0m\u001b[0;34m.\u001b[0m\u001b[0m_shutdown\u001b[0m \u001b[0;32mand\u001b[0m \u001b[0mself\u001b[0m\u001b[0;34m.\u001b[0m\u001b[0m_tasks_outstanding\u001b[0m \u001b[0;34m>\u001b[0m \u001b[0;36m0\u001b[0m\u001b[0;34m\u001b[0m\u001b[0;34m\u001b[0m\u001b[0m\n\u001b[0;32m-> 1186\u001b[0;31m             \u001b[0midx\u001b[0m\u001b[0;34m,\u001b[0m \u001b[0mdata\u001b[0m \u001b[0;34m=\u001b[0m \u001b[0mself\u001b[0m\u001b[0;34m.\u001b[0m\u001b[0m_get_data\u001b[0m\u001b[0;34m(\u001b[0m\u001b[0;34m)\u001b[0m\u001b[0;34m\u001b[0m\u001b[0;34m\u001b[0m\u001b[0m\n\u001b[0m\u001b[1;32m   1187\u001b[0m             \u001b[0mself\u001b[0m\u001b[0;34m.\u001b[0m\u001b[0m_tasks_outstanding\u001b[0m \u001b[0;34m-=\u001b[0m \u001b[0;36m1\u001b[0m\u001b[0;34m\u001b[0m\u001b[0;34m\u001b[0m\u001b[0m\n\u001b[1;32m   1188\u001b[0m             \u001b[0;32mif\u001b[0m \u001b[0mself\u001b[0m\u001b[0;34m.\u001b[0m\u001b[0m_dataset_kind\u001b[0m \u001b[0;34m==\u001b[0m \u001b[0m_DatasetKind\u001b[0m\u001b[0;34m.\u001b[0m\u001b[0mIterable\u001b[0m\u001b[0;34m:\u001b[0m\u001b[0;34m\u001b[0m\u001b[0;34m\u001b[0m\u001b[0m\n",
      "\u001b[0;32m/usr/local/lib/python3.7/dist-packages/torch/utils/data/dataloader.py\u001b[0m in \u001b[0;36m_get_data\u001b[0;34m(self)\u001b[0m\n\u001b[1;32m   1150\u001b[0m         \u001b[0;32melse\u001b[0m\u001b[0;34m:\u001b[0m\u001b[0;34m\u001b[0m\u001b[0;34m\u001b[0m\u001b[0m\n\u001b[1;32m   1151\u001b[0m             \u001b[0;32mwhile\u001b[0m \u001b[0;32mTrue\u001b[0m\u001b[0;34m:\u001b[0m\u001b[0;34m\u001b[0m\u001b[0;34m\u001b[0m\u001b[0m\n\u001b[0;32m-> 1152\u001b[0;31m                 \u001b[0msuccess\u001b[0m\u001b[0;34m,\u001b[0m \u001b[0mdata\u001b[0m \u001b[0;34m=\u001b[0m \u001b[0mself\u001b[0m\u001b[0;34m.\u001b[0m\u001b[0m_try_get_data\u001b[0m\u001b[0;34m(\u001b[0m\u001b[0;34m)\u001b[0m\u001b[0;34m\u001b[0m\u001b[0;34m\u001b[0m\u001b[0m\n\u001b[0m\u001b[1;32m   1153\u001b[0m                 \u001b[0;32mif\u001b[0m \u001b[0msuccess\u001b[0m\u001b[0;34m:\u001b[0m\u001b[0;34m\u001b[0m\u001b[0;34m\u001b[0m\u001b[0m\n\u001b[1;32m   1154\u001b[0m                     \u001b[0;32mreturn\u001b[0m \u001b[0mdata\u001b[0m\u001b[0;34m\u001b[0m\u001b[0;34m\u001b[0m\u001b[0m\n",
      "\u001b[0;32m/usr/local/lib/python3.7/dist-packages/torch/utils/data/dataloader.py\u001b[0m in \u001b[0;36m_try_get_data\u001b[0;34m(self, timeout)\u001b[0m\n\u001b[1;32m    988\u001b[0m         \u001b[0;31m#   (bool: whether successfully get data, any: data if successful else None)\u001b[0m\u001b[0;34m\u001b[0m\u001b[0;34m\u001b[0m\u001b[0;34m\u001b[0m\u001b[0m\n\u001b[1;32m    989\u001b[0m         \u001b[0;32mtry\u001b[0m\u001b[0;34m:\u001b[0m\u001b[0;34m\u001b[0m\u001b[0;34m\u001b[0m\u001b[0m\n\u001b[0;32m--> 990\u001b[0;31m             \u001b[0mdata\u001b[0m \u001b[0;34m=\u001b[0m \u001b[0mself\u001b[0m\u001b[0;34m.\u001b[0m\u001b[0m_data_queue\u001b[0m\u001b[0;34m.\u001b[0m\u001b[0mget\u001b[0m\u001b[0;34m(\u001b[0m\u001b[0mtimeout\u001b[0m\u001b[0;34m=\u001b[0m\u001b[0mtimeout\u001b[0m\u001b[0;34m)\u001b[0m\u001b[0;34m\u001b[0m\u001b[0;34m\u001b[0m\u001b[0m\n\u001b[0m\u001b[1;32m    991\u001b[0m             \u001b[0;32mreturn\u001b[0m \u001b[0;34m(\u001b[0m\u001b[0;32mTrue\u001b[0m\u001b[0;34m,\u001b[0m \u001b[0mdata\u001b[0m\u001b[0;34m)\u001b[0m\u001b[0;34m\u001b[0m\u001b[0;34m\u001b[0m\u001b[0m\n\u001b[1;32m    992\u001b[0m         \u001b[0;32mexcept\u001b[0m \u001b[0mException\u001b[0m \u001b[0;32mas\u001b[0m \u001b[0me\u001b[0m\u001b[0;34m:\u001b[0m\u001b[0;34m\u001b[0m\u001b[0;34m\u001b[0m\u001b[0m\n",
      "\u001b[0;32m/usr/lib/python3.7/multiprocessing/queues.py\u001b[0m in \u001b[0;36mget\u001b[0;34m(self, block, timeout)\u001b[0m\n\u001b[1;32m    102\u001b[0m                 \u001b[0;32mif\u001b[0m \u001b[0mblock\u001b[0m\u001b[0;34m:\u001b[0m\u001b[0;34m\u001b[0m\u001b[0;34m\u001b[0m\u001b[0m\n\u001b[1;32m    103\u001b[0m                     \u001b[0mtimeout\u001b[0m \u001b[0;34m=\u001b[0m \u001b[0mdeadline\u001b[0m \u001b[0;34m-\u001b[0m \u001b[0mtime\u001b[0m\u001b[0;34m.\u001b[0m\u001b[0mmonotonic\u001b[0m\u001b[0;34m(\u001b[0m\u001b[0;34m)\u001b[0m\u001b[0;34m\u001b[0m\u001b[0;34m\u001b[0m\u001b[0m\n\u001b[0;32m--> 104\u001b[0;31m                     \u001b[0;32mif\u001b[0m \u001b[0;32mnot\u001b[0m \u001b[0mself\u001b[0m\u001b[0;34m.\u001b[0m\u001b[0m_poll\u001b[0m\u001b[0;34m(\u001b[0m\u001b[0mtimeout\u001b[0m\u001b[0;34m)\u001b[0m\u001b[0;34m:\u001b[0m\u001b[0;34m\u001b[0m\u001b[0;34m\u001b[0m\u001b[0m\n\u001b[0m\u001b[1;32m    105\u001b[0m                         \u001b[0;32mraise\u001b[0m \u001b[0mEmpty\u001b[0m\u001b[0;34m\u001b[0m\u001b[0;34m\u001b[0m\u001b[0m\n\u001b[1;32m    106\u001b[0m                 \u001b[0;32melif\u001b[0m \u001b[0;32mnot\u001b[0m \u001b[0mself\u001b[0m\u001b[0;34m.\u001b[0m\u001b[0m_poll\u001b[0m\u001b[0;34m(\u001b[0m\u001b[0;34m)\u001b[0m\u001b[0;34m:\u001b[0m\u001b[0;34m\u001b[0m\u001b[0;34m\u001b[0m\u001b[0m\n",
      "\u001b[0;32m/usr/lib/python3.7/multiprocessing/connection.py\u001b[0m in \u001b[0;36mpoll\u001b[0;34m(self, timeout)\u001b[0m\n\u001b[1;32m    255\u001b[0m         \u001b[0mself\u001b[0m\u001b[0;34m.\u001b[0m\u001b[0m_check_closed\u001b[0m\u001b[0;34m(\u001b[0m\u001b[0;34m)\u001b[0m\u001b[0;34m\u001b[0m\u001b[0;34m\u001b[0m\u001b[0m\n\u001b[1;32m    256\u001b[0m         \u001b[0mself\u001b[0m\u001b[0;34m.\u001b[0m\u001b[0m_check_readable\u001b[0m\u001b[0;34m(\u001b[0m\u001b[0;34m)\u001b[0m\u001b[0;34m\u001b[0m\u001b[0;34m\u001b[0m\u001b[0m\n\u001b[0;32m--> 257\u001b[0;31m         \u001b[0;32mreturn\u001b[0m \u001b[0mself\u001b[0m\u001b[0;34m.\u001b[0m\u001b[0m_poll\u001b[0m\u001b[0;34m(\u001b[0m\u001b[0mtimeout\u001b[0m\u001b[0;34m)\u001b[0m\u001b[0;34m\u001b[0m\u001b[0;34m\u001b[0m\u001b[0m\n\u001b[0m\u001b[1;32m    258\u001b[0m \u001b[0;34m\u001b[0m\u001b[0m\n\u001b[1;32m    259\u001b[0m     \u001b[0;32mdef\u001b[0m \u001b[0m__enter__\u001b[0m\u001b[0;34m(\u001b[0m\u001b[0mself\u001b[0m\u001b[0;34m)\u001b[0m\u001b[0;34m:\u001b[0m\u001b[0;34m\u001b[0m\u001b[0;34m\u001b[0m\u001b[0m\n",
      "\u001b[0;32m/usr/lib/python3.7/multiprocessing/connection.py\u001b[0m in \u001b[0;36m_poll\u001b[0;34m(self, timeout)\u001b[0m\n\u001b[1;32m    412\u001b[0m \u001b[0;34m\u001b[0m\u001b[0m\n\u001b[1;32m    413\u001b[0m     \u001b[0;32mdef\u001b[0m \u001b[0m_poll\u001b[0m\u001b[0;34m(\u001b[0m\u001b[0mself\u001b[0m\u001b[0;34m,\u001b[0m \u001b[0mtimeout\u001b[0m\u001b[0;34m)\u001b[0m\u001b[0;34m:\u001b[0m\u001b[0;34m\u001b[0m\u001b[0;34m\u001b[0m\u001b[0m\n\u001b[0;32m--> 414\u001b[0;31m         \u001b[0mr\u001b[0m \u001b[0;34m=\u001b[0m \u001b[0mwait\u001b[0m\u001b[0;34m(\u001b[0m\u001b[0;34m[\u001b[0m\u001b[0mself\u001b[0m\u001b[0;34m]\u001b[0m\u001b[0;34m,\u001b[0m \u001b[0mtimeout\u001b[0m\u001b[0;34m)\u001b[0m\u001b[0;34m\u001b[0m\u001b[0;34m\u001b[0m\u001b[0m\n\u001b[0m\u001b[1;32m    415\u001b[0m         \u001b[0;32mreturn\u001b[0m \u001b[0mbool\u001b[0m\u001b[0;34m(\u001b[0m\u001b[0mr\u001b[0m\u001b[0;34m)\u001b[0m\u001b[0;34m\u001b[0m\u001b[0;34m\u001b[0m\u001b[0m\n\u001b[1;32m    416\u001b[0m \u001b[0;34m\u001b[0m\u001b[0m\n",
      "\u001b[0;32m/usr/lib/python3.7/multiprocessing/connection.py\u001b[0m in \u001b[0;36mwait\u001b[0;34m(object_list, timeout)\u001b[0m\n\u001b[1;32m    919\u001b[0m \u001b[0;34m\u001b[0m\u001b[0m\n\u001b[1;32m    920\u001b[0m             \u001b[0;32mwhile\u001b[0m \u001b[0;32mTrue\u001b[0m\u001b[0;34m:\u001b[0m\u001b[0;34m\u001b[0m\u001b[0;34m\u001b[0m\u001b[0m\n\u001b[0;32m--> 921\u001b[0;31m                 \u001b[0mready\u001b[0m \u001b[0;34m=\u001b[0m \u001b[0mselector\u001b[0m\u001b[0;34m.\u001b[0m\u001b[0mselect\u001b[0m\u001b[0;34m(\u001b[0m\u001b[0mtimeout\u001b[0m\u001b[0;34m)\u001b[0m\u001b[0;34m\u001b[0m\u001b[0;34m\u001b[0m\u001b[0m\n\u001b[0m\u001b[1;32m    922\u001b[0m                 \u001b[0;32mif\u001b[0m \u001b[0mready\u001b[0m\u001b[0;34m:\u001b[0m\u001b[0;34m\u001b[0m\u001b[0;34m\u001b[0m\u001b[0m\n\u001b[1;32m    923\u001b[0m                     \u001b[0;32mreturn\u001b[0m \u001b[0;34m[\u001b[0m\u001b[0mkey\u001b[0m\u001b[0;34m.\u001b[0m\u001b[0mfileobj\u001b[0m \u001b[0;32mfor\u001b[0m \u001b[0;34m(\u001b[0m\u001b[0mkey\u001b[0m\u001b[0;34m,\u001b[0m \u001b[0mevents\u001b[0m\u001b[0;34m)\u001b[0m \u001b[0;32min\u001b[0m \u001b[0mready\u001b[0m\u001b[0;34m]\u001b[0m\u001b[0;34m\u001b[0m\u001b[0;34m\u001b[0m\u001b[0m\n",
      "\u001b[0;32m/usr/lib/python3.7/selectors.py\u001b[0m in \u001b[0;36mselect\u001b[0;34m(self, timeout)\u001b[0m\n\u001b[1;32m    413\u001b[0m         \u001b[0mready\u001b[0m \u001b[0;34m=\u001b[0m \u001b[0;34m[\u001b[0m\u001b[0;34m]\u001b[0m\u001b[0;34m\u001b[0m\u001b[0;34m\u001b[0m\u001b[0m\n\u001b[1;32m    414\u001b[0m         \u001b[0;32mtry\u001b[0m\u001b[0;34m:\u001b[0m\u001b[0;34m\u001b[0m\u001b[0;34m\u001b[0m\u001b[0m\n\u001b[0;32m--> 415\u001b[0;31m             \u001b[0mfd_event_list\u001b[0m \u001b[0;34m=\u001b[0m \u001b[0mself\u001b[0m\u001b[0;34m.\u001b[0m\u001b[0m_selector\u001b[0m\u001b[0;34m.\u001b[0m\u001b[0mpoll\u001b[0m\u001b[0;34m(\u001b[0m\u001b[0mtimeout\u001b[0m\u001b[0;34m)\u001b[0m\u001b[0;34m\u001b[0m\u001b[0;34m\u001b[0m\u001b[0m\n\u001b[0m\u001b[1;32m    416\u001b[0m         \u001b[0;32mexcept\u001b[0m \u001b[0mInterruptedError\u001b[0m\u001b[0;34m:\u001b[0m\u001b[0;34m\u001b[0m\u001b[0;34m\u001b[0m\u001b[0m\n\u001b[1;32m    417\u001b[0m             \u001b[0;32mreturn\u001b[0m \u001b[0mready\u001b[0m\u001b[0;34m\u001b[0m\u001b[0;34m\u001b[0m\u001b[0m\n",
      "\u001b[0;31mKeyboardInterrupt\u001b[0m: "
     ]
    }
   ],
   "source": [
    "\n",
    "for epoch in range(0, epochs): # upload_epoch_num or 0\n",
    "    \n",
    "    model.train(mode=True)\n",
    "    \n",
    "    # Quality of life tip: leave=False and position=0 are needed to make tqdm usable in jupyter\n",
    "    batch_bar = tqdm(total=len(train_loader), dynamic_ncols=True, leave=False, position=0, desc='Train') \n",
    "\n",
    "    num_correct = 0\n",
    "    total_loss = 0\n",
    "\n",
    "    for i, (x, y) in enumerate(train_loader):\n",
    "        optimizer.zero_grad()\n",
    "\n",
    "        x = x.cuda()\n",
    "        y = y.cuda()\n",
    "\n",
    "        # Don't be surprised - we just wrap these two lines to make it work for FP16\n",
    "        with torch.cuda.amp.autocast():     \n",
    "            outputs = model(x)\n",
    "            loss = criterion(outputs, y)\n",
    "\n",
    "        # Update # correct & loss as we go\n",
    "        num_correct += int((torch.argmax(outputs, axis=1) == y).sum())\n",
    "        total_loss += float(loss)\n",
    "\n",
    "        # tqdm lets you add some details so you can monitor training as you train.\n",
    "        batch_bar.set_postfix(\n",
    "            acc=\"{:.04f}%\".format(100 * num_correct / ((i + 1) * batch_size)),\n",
    "            loss=\"{:.04f}\".format(float(total_loss / (i + 1))),\n",
    "            num_correct=num_correct,\n",
    "            lr=\"{:.04f}\".format(float(optimizer.param_groups[0]['lr'])))\n",
    "        \n",
    "        # Another couple things you need for FP16. \n",
    "        scaler.scale(loss).backward() # This is a replacement for loss.backward()\n",
    "        scaler.step(optimizer) # This is a replacement for optimizer.step()\n",
    "        scaler.update() # This is something added just for FP16\n",
    "\n",
    "        scheduler.step() # We told scheduler T_max that we'd call step() (len(train_loader) * epochs) many times.\n",
    "\n",
    "        batch_bar.update() # Update tqdm bar\n",
    "    batch_bar.close() # You need this to close the tqdm bar\n",
    "    \n",
    "    # saving the model\n",
    "    torch.save(model, \"epo_num_\" + str(epoch + 1) + \"_model.pt\")\n",
    "\n",
    "    #to download a local copy of the saved model in colab\n",
    "    #from google.colab import files\n",
    "    #files.download(\"epo_num_\" + str(epoch+1) + \"_model.pt\")\n",
    "\n",
    "    \n",
    "    # validation accuracy\n",
    "    model.eval()\n",
    "    num_correct_validation = 0\n",
    "\n",
    "    for i, (x, y) in enumerate(val_loader):\n",
    "        x = x.cuda()\n",
    "        y = y.cuda()\n",
    "        with torch.no_grad():\n",
    "            outputs_validation = model(x)\n",
    "        num_correct_validation += int((torch.argmax(outputs_validation, axis=1) == y).sum())\n",
    "\n",
    "    validation_accuracy = 100 * num_correct_validation / len(val_dataset)\n",
    "\n",
    "    train_accuracy = 100 * num_correct / (len(train_loader) * batch_size)\n",
    "\n",
    "    print(\"Epoch {}/{}: Train Acc {:.04f}%, Train Loss {:.04f}, Learning Rate {:.04f}, Validation Acc {:.04f}%\".format(epoch + 1,\n",
    "                                                                                                                       epochs,\n",
    "                                                                                                                       train_accuracy,\n",
    "                                                                                                                       float(total_loss / len(train_loader)),\n",
    "                                                                                                                       float(optimizer.param_groups[0]['lr']),\n",
    "                                                                                                                       validation_accuracy\n",
    "                                                                                                                       ))\n",
    "    if validation_accuracy > 86:\n",
    "        break\n",
    "\n",
    "# I have intentionally included the output values of the classification task training process for reference\n"
   ]
  },
  {
   "cell_type": "markdown",
   "metadata": {
    "id": "WP3NtmXIRLP3"
   },
   "source": [
    "# Classification Task: Loading the locally saved final model for classification task"
   ]
  },
  {
   "cell_type": "code",
   "execution_count": null,
   "metadata": {
    "colab": {
     "base_uri": "https://localhost:8080/"
    },
    "id": "iRaHUw9pblsN",
    "outputId": "08ac5a0d-a0dc-476a-dcc4-4a41b1844d65"
   },
   "outputs": [
    {
     "name": "stdout",
     "output_type": "stream",
     "text": [
      "Number of Params: 33243866\n"
     ]
    }
   ],
   "source": [
    "\n",
    "# The classification model file (epo_num_152_model_classification.pt) submitted with this code needs to be uploaded in the same folder where this code file runs\n",
    "\n",
    "# model name\n",
    "upload_epoch_num = 152\n",
    "model_str = \"epo_num_\" + str(upload_epoch_num) + \"_model_classification.pt\"\n",
    "\n",
    "# loading the model\n",
    "model = torch.load(model_str)\n",
    "\n",
    "model.cuda()\n",
    "\n",
    "num_trainable_parameters = 0\n",
    "for p in model.parameters():\n",
    "    num_trainable_parameters += p.numel()\n",
    "print(\"Number of Params: {}\".format(num_trainable_parameters))\n",
    "\n",
    "criterion = nn.CrossEntropyLoss(label_smoothing = 0.15) # 0.1, 0.15\n",
    "optimizer = optim.SGD(model.parameters(), lr=lr, momentum=0.9, weight_decay=1e-4)\n",
    "scheduler = optim.lr_scheduler.CosineAnnealingLR(optimizer, T_max=(len(train_loader) * epochs))\n",
    "scaler = torch.cuda.amp.GradScaler()\n",
    "\n"
   ]
  },
  {
   "cell_type": "markdown",
   "metadata": {
    "id": "AKb2iD_9gdpX"
   },
   "source": [
    "# Classification Task: Validation"
   ]
  },
  {
   "cell_type": "code",
   "execution_count": null,
   "metadata": {
    "colab": {
     "base_uri": "https://localhost:8080/"
    },
    "id": "le1o-OVjfeN9",
    "outputId": "b3270bce-0eec-467d-8001-c8a71e2aa793"
   },
   "outputs": [
    {
     "name": "stderr",
     "output_type": "stream",
     "text": [
      "                                                                    "
     ]
    },
    {
     "name": "stdout",
     "output_type": "stream",
     "text": [
      "Validation: 86.1086%\n"
     ]
    },
    {
     "name": "stderr",
     "output_type": "stream",
     "text": [
      "\r"
     ]
    }
   ],
   "source": [
    "model.eval()\n",
    "batch_bar = tqdm(total=len(val_loader), dynamic_ncols=True, position=0, leave=False, desc='Val')\n",
    "num_correct = 0\n",
    "for i, (x, y) in enumerate(val_loader):\n",
    "\n",
    "    x = x.cuda()\n",
    "    y = y.cuda()\n",
    "\n",
    "    with torch.no_grad():\n",
    "        outputs = model(x)\n",
    "\n",
    "    num_correct += int((torch.argmax(outputs, axis=1) == y).sum())\n",
    "    batch_bar.set_postfix(acc=\"{:.04f}%\".format(100 * num_correct / ((i + 1) * batch_size)))\n",
    "\n",
    "    batch_bar.update()\n",
    "    \n",
    "batch_bar.close()\n",
    "print(\"Validation: {:.04f}%\".format(100 * num_correct / len(val_dataset)))"
   ]
  },
  {
   "cell_type": "markdown",
   "metadata": {
    "id": "tzgGb7bUV5lI"
   },
   "source": [
    "# Classification Task: Validation check loop for running through multiple saved models"
   ]
  },
  {
   "cell_type": "code",
   "execution_count": null,
   "metadata": {
    "colab": {
     "base_uri": "https://localhost:8080/",
     "height": 111
    },
    "id": "UIuNEghZy7Jm",
    "outputId": "13863772-09d5-4289-8be3-d6f03329a1f3"
   },
   "outputs": [
    {
     "data": {
      "application/vnd.google.colaboratory.intrinsic+json": {
       "type": "string"
      },
      "text/plain": [
       "'\\n\\nfirst_model = 120\\nlast_model = 132\\n\\nfor epoch_num in range(first_model, last_model + 1):\\n\\n    model_file = \"epo_num_\" + str(epoch_num) + \"_model.pt\"\\n\\n    model = torch.load(model_file)\\n\\n    model.cuda()\\n\\n    # For this homework, we\\'re limiting you to 35 million trainable parameters, as\\n    # outputted by this. This is to help constrain your search space and maintain\\n    # reasonable training times & expectations\\n    num_trainable_parameters = 0\\n    for p in model.parameters():\\n        num_trainable_parameters += p.numel()\\n    #print(\"Number of Params: {}\".format(num_trainable_parameters))\\n\\n    # TODO: What criterion do we use for this task?\\n    criterion = nn.CrossEntropyLoss(label_smoothing = 0.1)\\n    optimizer = optim.SGD(model.parameters(), lr=lr, momentum=0.9, weight_decay=1e-4)\\n    scheduler = optim.lr_scheduler.CosineAnnealingLR(optimizer, T_max=(len(train_loader) * epochs))\\n    scaler = torch.cuda.amp.GradScaler()\\n\\n    model.eval()\\n    batch_bar = tqdm(total=len(val_loader), dynamic_ncols=True, position=0, leave=False, desc=\\'Val\\')\\n    num_correct = 0\\n    for i, (x, y) in enumerate(val_loader):\\n\\n        x = x.cuda()\\n        y = y.cuda()\\n\\n        with torch.no_grad():\\n            outputs = model(x)\\n\\n        num_correct += int((torch.argmax(outputs, axis=1) == y).sum())\\n        batch_bar.set_postfix(acc=\"{:.04f}%\".format(100 * num_correct / ((i + 1) * batch_size)))\\n\\n        batch_bar.update()\\n        \\n    batch_bar.close()\\n    print(\"Number of epochs: {a} \\tValidation: {b:.04f}%\".format(a = epoch_num, b = 100 * num_correct / len(val_dataset)))\\n\\n'"
      ]
     },
     "execution_count": 40,
     "metadata": {},
     "output_type": "execute_result"
    }
   ],
   "source": [
    "# Validation check loop for running through multiple saved models\n",
    "\"\"\"\n",
    "\n",
    "first_model = 120\n",
    "last_model = 132\n",
    "\n",
    "for epoch_num in range(first_model, last_model + 1):\n",
    "\n",
    "    model_file = \"epo_num_\" + str(epoch_num) + \"_model.pt\"\n",
    "\n",
    "    model = torch.load(model_file)\n",
    "\n",
    "    model.cuda()\n",
    "\n",
    "    # For this homework, we're limiting you to 35 million trainable parameters, as\n",
    "    # outputted by this. This is to help constrain your search space and maintain\n",
    "    # reasonable training times & expectations\n",
    "    num_trainable_parameters = 0\n",
    "    for p in model.parameters():\n",
    "        num_trainable_parameters += p.numel()\n",
    "    #print(\"Number of Params: {}\".format(num_trainable_parameters))\n",
    "\n",
    "    # TODO: What criterion do we use for this task?\n",
    "    criterion = nn.CrossEntropyLoss(label_smoothing = 0.1)\n",
    "    optimizer = optim.SGD(model.parameters(), lr=lr, momentum=0.9, weight_decay=1e-4)\n",
    "    scheduler = optim.lr_scheduler.CosineAnnealingLR(optimizer, T_max=(len(train_loader) * epochs))\n",
    "    scaler = torch.cuda.amp.GradScaler()\n",
    "\n",
    "    model.eval()\n",
    "    batch_bar = tqdm(total=len(val_loader), dynamic_ncols=True, position=0, leave=False, desc='Val')\n",
    "    num_correct = 0\n",
    "    for i, (x, y) in enumerate(val_loader):\n",
    "\n",
    "        x = x.cuda()\n",
    "        y = y.cuda()\n",
    "\n",
    "        with torch.no_grad():\n",
    "            outputs = model(x)\n",
    "\n",
    "        num_correct += int((torch.argmax(outputs, axis=1) == y).sum())\n",
    "        batch_bar.set_postfix(acc=\"{:.04f}%\".format(100 * num_correct / ((i + 1) * batch_size)))\n",
    "\n",
    "        batch_bar.update()\n",
    "        \n",
    "    batch_bar.close()\n",
    "    print(\"Number of epochs: {a} \\tValidation: {b:.04f}%\".format(a = epoch_num, b = 100 * num_correct / len(val_dataset)))\n",
    "\n",
    "\"\"\""
   ]
  },
  {
   "cell_type": "markdown",
   "metadata": {
    "id": "UpgCHImRkYQW"
   },
   "source": [
    "# Classification Task: Submit to Kaggle"
   ]
  },
  {
   "cell_type": "code",
   "execution_count": null,
   "metadata": {
    "id": "08Zv2AWFrfVP"
   },
   "outputs": [],
   "source": [
    "class ClassificationTestSet(Dataset):\n",
    "    # It's possible to load test set data using ImageFolder without making a custom class.\n",
    "    # See if you can think it through!\n",
    "\n",
    "    def __init__(self, data_dir, transforms):\n",
    "        self.data_dir = data_dir\n",
    "        self.transforms = transforms\n",
    "\n",
    "        # This one-liner basically generates a sorted list of full paths to each image in data_dir\n",
    "        self.img_paths = list(map(lambda fname: osp.join(self.data_dir, fname), sorted(os.listdir(self.data_dir))))\n",
    "\n",
    "    def __len__(self):\n",
    "        return len(self.img_paths)\n",
    "    \n",
    "    def __getitem__(self, idx):\n",
    "        return self.transforms(Image.open(self.img_paths[idx]))"
   ]
  },
  {
   "cell_type": "code",
   "execution_count": null,
   "metadata": {
    "id": "td_qvGwr16z0"
   },
   "outputs": [],
   "source": [
    "val_transforms = [ttf.ToTensor()]\n",
    "\n",
    "test_dataset = ClassificationTestSet(TEST_DIR, ttf.Compose(val_transforms))\n",
    "test_loader = DataLoader(test_dataset, batch_size=batch_size, shuffle=False,\n",
    "                         drop_last=False, num_workers=1)"
   ]
  },
  {
   "cell_type": "code",
   "execution_count": null,
   "metadata": {
    "colab": {
     "base_uri": "https://localhost:8080/"
    },
    "id": "U2WQEUjXkWvo",
    "outputId": "a2e37692-2ade-4a80-ee9e-0b43fcf20fa9"
   },
   "outputs": [
    {
     "name": "stderr",
     "output_type": "stream",
     "text": []
    }
   ],
   "source": [
    "model.eval()\n",
    "batch_bar = tqdm(total=len(test_loader), dynamic_ncols=True, position=0, leave=False, desc='Test')\n",
    "\n",
    "res = []\n",
    "for i, (x) in enumerate(test_loader):\n",
    "\n",
    "    # TODO: Finish predicting on the test set.\n",
    "    x = x.cuda()\n",
    "\n",
    "    with torch.no_grad():\n",
    "        outputs = model(x)\n",
    "\n",
    "    pred_val = torch.argmax(outputs, axis=1)\n",
    "\n",
    "    res.append(pred_val)\n",
    "\n",
    "    batch_bar.update()\n",
    "    \n",
    "batch_bar.close()"
   ]
  },
  {
   "cell_type": "code",
   "execution_count": null,
   "metadata": {
    "id": "Vob9a2-HkW_V"
   },
   "outputs": [],
   "source": [
    "res_list = list()\n",
    "\n",
    "for i in range(len(res)):\n",
    "    res_list.extend(res[i].cpu().numpy().tolist())\n",
    "\n",
    "with open(\"classification_slack_submission.csv\", \"w+\") as f:\n",
    "    f.write(\"id,label\\n\")\n",
    "    for i in range(len(test_dataset)):\n",
    "        f.write(\"{},{}\\n\".format(str(i).zfill(6) + \".jpg\", res_list[i]))"
   ]
  },
  {
   "cell_type": "code",
   "execution_count": null,
   "metadata": {
    "id": "zpxatBfT4jSQ"
   },
   "outputs": [],
   "source": [
    "# keeping commented out to avoid accidental submission\n",
    "\n",
    "#!kaggle competitions submit -c face-recognition-slack -f classification_slack_submission.csv -m \"config 4 - with 550 final layer - verification version - epoch 152\""
   ]
  },
  {
   "cell_type": "markdown",
   "metadata": {
    "id": "PsJx1l1T4twC"
   },
   "source": [
    "# Verification Task: Validation"
   ]
  },
  {
   "cell_type": "markdown",
   "metadata": {
    "id": "FoBFFF8-Lpvj"
   },
   "source": [
    "There are 6K verification dev images, but 166K \"pairs\" for you to compare. So, it's much more efficient to compute the features for the 6K verification images, and just compare afterwards.\n",
    "\n",
    "This will be done by creating a dictionary mapping the image file names to the features. Then, you'll use this dictionary to compute the similarities for each pair."
   ]
  },
  {
   "cell_type": "code",
   "execution_count": null,
   "metadata": {
    "colab": {
     "base_uri": "https://localhost:8080/"
    },
    "id": "ZV-WsTi9LrVz",
    "outputId": "013610f4-43c0-4884-f8fa-902ed9945f22"
   },
   "outputs": [
    {
     "name": "stdout",
     "output_type": "stream",
     "text": [
      "6000\n",
      "166801\n"
     ]
    }
   ],
   "source": [
    "!ls verification/verification/dev | wc -l\n",
    "!cat verification/verification/verification_dev.csv | wc -l"
   ]
  },
  {
   "cell_type": "markdown",
   "metadata": {
    "id": "GzprOF2SR0G_"
   },
   "source": [
    "# Verification Task: Re-setting the parameters to train the final model"
   ]
  },
  {
   "cell_type": "code",
   "execution_count": null,
   "metadata": {
    "id": "h94v9mGYOzCG"
   },
   "outputs": [],
   "source": [
    "# for the verification task final model\n",
    "batch_size = 128     #tried 32, 64, 128, 250\n",
    "lr = 0.05         #tried 0.012, 0.0185, 0.01"
   ]
  },
  {
   "cell_type": "markdown",
   "metadata": {
    "id": "28Hkprst96PM"
   },
   "source": [
    "# Verification Task: updating ConvNeXt() for the final model for the verification task"
   ]
  },
  {
   "cell_type": "code",
   "execution_count": null,
   "metadata": {
    "id": "ZX6ZLx2dPvLL"
   },
   "outputs": [],
   "source": [
    "class ConvNeXt(nn.Module):\n",
    "\n",
    "    def __init__(self, num_classes = 7000):\n",
    "        super().__init__()\n",
    "\n",
    "        in_channels = 32\n",
    "\n",
    "        num_out_channels = 1280\n",
    "\n",
    "        last_linear_layer = 512 # tried 512, 550, 740, 750, 760\n",
    "\n",
    "        self.num_classes = num_classes\n",
    "\n",
    "        self.stem = nn.Sequential(\n",
    "            # TODO: Fill this in!\n",
    "            nn.Conv2d(3, in_channels, \n",
    "                      kernel_size = 3, \n",
    "                      stride = 2, \n",
    "                      padding = 3//2, \n",
    "                      bias = False),\n",
    "            nn.BatchNorm2d(in_channels),\n",
    "            nn.GELU()\n",
    "            )\n",
    "\n",
    "        self.stage_cfgs = [\n",
    "            # expand_ratio, channels, # blocks, stride of first block\n",
    "            [4,   96, 3, 2],\n",
    "            [8,  192, 3, 2],\n",
    "            [8,  384, 7, 2],\n",
    "            [8,  512, 3, 2]\n",
    "            ]\n",
    "            \n",
    "        # Let's make the layers\n",
    "        layers = []\n",
    "        for curr_stage in self.stage_cfgs:\n",
    "            expand_ratio, num_channels, num_blocks, stride = curr_stage\n",
    "            \n",
    "            for block_idx in range(num_blocks):\n",
    "                out_channels = num_channels\n",
    "                layers.append(InvertedResidualBlock_Convnext(\n",
    "                    in_channels = in_channels,\n",
    "                    out_channels = out_channels,\n",
    "                    # only have non-trivial stride if first block\n",
    "                    stride = stride if block_idx == 0 else 1, \n",
    "                    expand_ratio = expand_ratio\n",
    "                ))\n",
    "                # In channels of the next block is the out_channels of the current one\n",
    "                in_channels = out_channels\n",
    "            \n",
    "        self.layers = nn.Sequential(*layers) # Done, save them to the class\n",
    "\n",
    "        # Some final feature mixing\n",
    "        self.final_block = nn.Sequential(\n",
    "            nn.Conv2d(in_channels, \n",
    "                      num_out_channels, \n",
    "                      kernel_size = 1, \n",
    "                      padding = 0, \n",
    "                      stride = 1, \n",
    "                      bias = False),\n",
    "            nn.BatchNorm2d(num_out_channels),\n",
    "            nn.GELU(), # options: ReLU6, GELU\n",
    "            nn.AdaptiveAvgPool2d((1,1)),\n",
    "            nn.Flatten()\n",
    "            )\n",
    "        \n",
    "        # Now, we need to build the final classification layer.\n",
    "        self.cls_layer = nn.Sequential(\n",
    "            # TODO: Fill this in!\n",
    "            nn.Linear(num_out_channels, last_linear_layer),\n",
    "            nn.BatchNorm1d(last_linear_layer), # tried with nn.GELU() as well instead of {nn.BatchNorm1d() and nn.ReLU6()}\n",
    "            nn.ReLU6(), # tried ReLU6, GELU\n",
    "            nn.Dropout(p = 0.2), # 0.2, 0.25\n",
    "            nn.Linear(last_linear_layer, self.num_classes)\n",
    "            )\n",
    "\n",
    "        self._initialize_weights()\n",
    "\n",
    "    def _initialize_weights(self):\n",
    "\n",
    "        for m in self.modules():\n",
    "            if isinstance(m, nn.Conv2d):\n",
    "                n = m.kernel_size[0] * m.kernel_size[1] * m.out_channels\n",
    "                m.weight.data.normal_(0, math.sqrt(2. / n))\n",
    "                if m.bias is not None:\n",
    "                    m.bias.data.zero_()\n",
    "            elif isinstance(m, nn.BatchNorm2d):\n",
    "                m.weight.data.fill_(1)\n",
    "                m.bias.data.zero_()\n",
    "            elif isinstance(m, nn.Linear):\n",
    "                m.weight.data.normal_(0, 0.01)\n",
    "                m.bias.data.zero_()\n",
    "\n",
    "    def forward(self, x):\n",
    "        stem_out = self.stem(x)\n",
    "        layers_out = self.layers(stem_out)\n",
    "        feat_out = self.final_block(layers_out)\n",
    "        out = self.cls_layer(feat_out)\n",
    "        return out\n"
   ]
  },
  {
   "cell_type": "markdown",
   "metadata": {
    "id": "3lwD2aPbTHZT"
   },
   "source": [
    "# Verification Task: Dataset & DataLoader"
   ]
  },
  {
   "cell_type": "code",
   "execution_count": null,
   "metadata": {
    "id": "b7tNFjs8M5lL"
   },
   "outputs": [],
   "source": [
    "# Data augmentation used for training the final model for the verification task\n",
    "\n",
    "\n",
    "DATA_DIR = \"/content\"  # for colab \"/content\" # for AWS \"/home/ubuntu\"\n",
    "TRAIN_DIR = osp.join(DATA_DIR, \"classification/classification/train\") \n",
    "VAL_DIR = osp.join(DATA_DIR, \"classification/classification/dev\")\n",
    "TEST_DIR = osp.join(DATA_DIR, \"classification/classification/test\")\n",
    "\n",
    "\n",
    "#config 5 - Used to train the final version of the model for verification task\n",
    "\n",
    "train_transforms = [ttf.RandomHorizontalFlip(p = 0.5),\n",
    "                    ttf.ColorJitter(brightness = (0.6, 1.4), \n",
    "                                    contrast = (0.6, 1.4),\n",
    "                                    saturation = (0, 0.5),\n",
    "                                    hue = 0),\n",
    "                    ttf.RandAugment(),\n",
    "                    ttf.GaussianBlur(kernel_size = 7),\n",
    "                    ttf.RandomAffine(degrees = 10),\n",
    "                    ttf.ToTensor()]\n",
    "\n",
    "\n",
    "val_transforms = [ttf.ToTensor()]\n",
    "\n",
    "train_dataset = torchvision.datasets.ImageFolder(TRAIN_DIR, transform = ttf.Compose(train_transforms))\n",
    "\n",
    "val_dataset = torchvision.datasets.ImageFolder(VAL_DIR, transform=ttf.Compose(val_transforms))\n",
    "\n",
    "\n",
    "train_loader = DataLoader(train_dataset, \n",
    "                          batch_size = batch_size,\n",
    "                          shuffle = True, \n",
    "                          drop_last = True, \n",
    "                          num_workers = 4)\n",
    "\n",
    "val_loader = DataLoader(val_dataset, \n",
    "                        batch_size = batch_size, \n",
    "                        shuffle = False,\n",
    "                        drop_last = True, \n",
    "                        num_workers = 4)\n"
   ]
  },
  {
   "cell_type": "markdown",
   "metadata": {
    "id": "jnamliRHTMpd"
   },
   "source": [
    "# Verification Task: Setup and training"
   ]
  },
  {
   "cell_type": "code",
   "execution_count": null,
   "metadata": {
    "colab": {
     "base_uri": "https://localhost:8080/"
    },
    "id": "_URMUmwJM5sj",
    "outputId": "9dddfb23-7649-47d8-f0e0-2350afc8d68a"
   },
   "outputs": [
    {
     "name": "stdout",
     "output_type": "stream",
     "text": [
      "Number of Params: 32929112\n"
     ]
    }
   ],
   "source": [
    "# setting up the model for verification task\n",
    "\n",
    "model = ConvNeXt()\n",
    "model.cuda()\n",
    "\n",
    "num_trainable_parameters = 0\n",
    "for p in model.parameters():\n",
    "    num_trainable_parameters += p.numel()\n",
    "print(\"Number of Params: {}\".format(num_trainable_parameters))\n",
    "\n",
    "criterion = nn.CrossEntropyLoss(label_smoothing = 0.15) # 0.1, 0.15\n",
    "optimizer = optim.SGD(model.parameters(), lr=lr, momentum=0.9, weight_decay=1e-4)\n",
    "scheduler = optim.lr_scheduler.CosineAnnealingLR(optimizer, T_max=(len(train_loader) * epochs))\n",
    "scaler = torch.cuda.amp.GradScaler()"
   ]
  },
  {
   "cell_type": "code",
   "execution_count": null,
   "metadata": {
    "id": "RRAnVJN4OFjr"
   },
   "outputs": [],
   "source": [
    "# training the final model for verification task\n",
    "\n",
    "epochs = 64\n",
    "\n",
    "for epoch in range(0, epochs): # upload_epoch_num or 0\n",
    "    \n",
    "    model.train(mode=True)\n",
    "    \n",
    "    # Quality of life tip: leave=False and position=0 are needed to make tqdm usable in jupyter\n",
    "    batch_bar = tqdm(total=len(train_loader), dynamic_ncols=True, leave=False, position=0, desc='Train') \n",
    "\n",
    "    num_correct = 0\n",
    "    total_loss = 0\n",
    "\n",
    "    for i, (x, y) in enumerate(train_loader):\n",
    "        optimizer.zero_grad()\n",
    "\n",
    "        x = x.cuda()\n",
    "        y = y.cuda()\n",
    "\n",
    "        # Don't be surprised - we just wrap these two lines to make it work for FP16\n",
    "        with torch.cuda.amp.autocast():     \n",
    "            outputs = model(x)\n",
    "            loss = criterion(outputs, y)\n",
    "\n",
    "        # Update # correct & loss as we go\n",
    "        num_correct += int((torch.argmax(outputs, axis=1) == y).sum())\n",
    "        total_loss += float(loss)\n",
    "\n",
    "        # tqdm lets you add some details so you can monitor training as you train.\n",
    "        batch_bar.set_postfix(\n",
    "            acc=\"{:.04f}%\".format(100 * num_correct / ((i + 1) * batch_size)),\n",
    "            loss=\"{:.04f}\".format(float(total_loss / (i + 1))),\n",
    "            num_correct=num_correct,\n",
    "            lr=\"{:.04f}\".format(float(optimizer.param_groups[0]['lr'])))\n",
    "        \n",
    "        # Another couple things you need for FP16. \n",
    "        scaler.scale(loss).backward() # This is a replacement for loss.backward()\n",
    "        scaler.step(optimizer) # This is a replacement for optimizer.step()\n",
    "        scaler.update() # This is something added just for FP16\n",
    "\n",
    "        scheduler.step() # We told scheduler T_max that we'd call step() (len(train_loader) * epochs) many times.\n",
    "\n",
    "        batch_bar.update() # Update tqdm bar\n",
    "    batch_bar.close() # You need this to close the tqdm bar\n",
    "    \n",
    "    # saving the model\n",
    "    torch.save(model, \"epo_num_\" + str(epoch + 1) + \"_model.pt\")\n",
    "\n",
    "    #to download a local copy of the saved model\n",
    "    #from google.colab import files\n",
    "    #files.download(\"epo_num_\" + str(epoch+1) + \"_model.pt\")\n",
    "\n",
    "    \n",
    "    # validation accuracy\n",
    "    model.eval()\n",
    "    num_correct_validation = 0\n",
    "\n",
    "    for i, (x, y) in enumerate(val_loader):\n",
    "        x = x.cuda()\n",
    "        y = y.cuda()\n",
    "        with torch.no_grad():\n",
    "            outputs_validation = model(x)\n",
    "        num_correct_validation += int((torch.argmax(outputs_validation, axis=1) == y).sum())\n",
    "\n",
    "    validation_accuracy = 100 * num_correct_validation / len(val_dataset)\n",
    "\n",
    "    train_accuracy = 100 * num_correct / (len(train_loader) * batch_size)\n",
    "\n",
    "    print(\"Epoch {}/{}: Train Acc {:.04f}%, Train Loss {:.04f}, Learning Rate {:.04f}, Validation Acc {:.04f}%\".format(epoch + 1,\n",
    "                                                                                                                       epochs,\n",
    "                                                                                                                       train_accuracy,\n",
    "                                                                                                                       float(total_loss / len(train_loader)),\n",
    "                                                                                                                       float(optimizer.param_groups[0]['lr']),\n",
    "                                                                                                                       validation_accuracy\n",
    "                                                                                                                       ))\n"
   ]
  },
  {
   "cell_type": "markdown",
   "metadata": {
    "id": "Eq8o80TRTl0T"
   },
   "source": [
    "# Verification Task: Loading the locally saved final model for verification task"
   ]
  },
  {
   "cell_type": "code",
   "execution_count": null,
   "metadata": {
    "colab": {
     "base_uri": "https://localhost:8080/"
    },
    "id": "q365dJx42buU",
    "outputId": "6687ba5a-87e7-4368-ff7e-682049ff29da"
   },
   "outputs": [
    {
     "name": "stdout",
     "output_type": "stream",
     "text": [
      "Number of Params: 32929112\n"
     ]
    }
   ],
   "source": [
    "# verification task: loading a locally saved copy of the final model for verification task\n",
    "\n",
    "# The verification task final model file (epo_num_64_model_verification.pt) submitted with this code needs to be uploaded in the same folder where this code file runs\n",
    "\n",
    "\n",
    "# model name\n",
    "upload_epoch_num = 64\n",
    "model_str = \"epo_num_\" + str(upload_epoch_num) + \"_model_verification.pt\"\n",
    "\n",
    "\n",
    "# loading the model\n",
    "model = torch.load(model_str)\n",
    "\n",
    "model.cuda()\n",
    "\n",
    "num_trainable_parameters = 0\n",
    "for p in model.parameters():\n",
    "    num_trainable_parameters += p.numel()\n",
    "print(\"Number of Params: {}\".format(num_trainable_parameters))\n",
    "\n",
    "\n",
    "criterion = nn.CrossEntropyLoss(label_smoothing = 0.15) # 0.1, 0.15\n",
    "optimizer = optim.SGD(model.parameters(), lr=lr, momentum=0.9, weight_decay=1e-4)\n",
    "scheduler = optim.lr_scheduler.CosineAnnealingLR(optimizer, T_max=(len(train_loader) * epochs))\n",
    "scaler = torch.cuda.amp.GradScaler()\n"
   ]
  },
  {
   "cell_type": "markdown",
   "metadata": {
    "id": "ECsMx-q8UBgN"
   },
   "source": [
    "# Verification Task: Validation"
   ]
  },
  {
   "cell_type": "code",
   "execution_count": null,
   "metadata": {
    "id": "m1YtIwxuL7H0"
   },
   "outputs": [],
   "source": [
    "class VerificationDataset(Dataset):\n",
    "    def __init__(self, data_dir, transforms):\n",
    "        self.data_dir = data_dir\n",
    "        self.transforms = transforms\n",
    "\n",
    "        # This one-liner basically generates a sorted list of full paths to each image in data_dir\n",
    "        self.img_paths = list(map(lambda fname: osp.join(self.data_dir, fname), sorted(os.listdir(self.data_dir))))\n",
    "\n",
    "    def __len__(self):\n",
    "        return len(self.img_paths)\n",
    "    \n",
    "    def __getitem__(self, idx):\n",
    "        # We return the image, as well as the path to that image (relative path)\n",
    "        return self.transforms(Image.open(self.img_paths[idx])), osp.relpath(self.img_paths[idx], self.data_dir)"
   ]
  },
  {
   "cell_type": "code",
   "execution_count": null,
   "metadata": {
    "id": "98lmjm0S4tHR"
   },
   "outputs": [],
   "source": [
    "val_veri_dataset = VerificationDataset(osp.join(DATA_DIR, \"verification/verification/dev\"),\n",
    "                                       ttf.Compose(val_transforms))\n",
    "val_ver_loader = torch.utils.data.DataLoader(val_veri_dataset, batch_size=batch_size, \n",
    "                                             shuffle=False, num_workers=1)"
   ]
  },
  {
   "cell_type": "code",
   "execution_count": null,
   "metadata": {
    "colab": {
     "base_uri": "https://localhost:8080/"
    },
    "id": "-Qw45H-eMyyn",
    "outputId": "a7752d0d-d277-49e9-b78b-2c8291136ed8"
   },
   "outputs": [
    {
     "name": "stderr",
     "output_type": "stream",
     "text": []
    }
   ],
   "source": [
    "model.eval()\n",
    "\n",
    "feats_dict = dict()\n",
    "for batch_idx, (imgs, path_names) in tqdm(enumerate(val_ver_loader), total=len(val_ver_loader), position=0, leave=False):\n",
    "    imgs = imgs.cuda()\n",
    "\n",
    "    with torch.no_grad():\n",
    "        # Note that we return the feats here, not the final outputs\n",
    "        # Feel free to try the final outputs too!\n",
    "        #feats = model(imgs, return_feats=True)\n",
    "\n",
    "        feats = model(imgs)\n",
    "        feats = nn.Sequential(nn.GELU())(feats) # consider: RELU6, GELU, LeakyRELU\n",
    "    \n",
    "    # TODO: Now we have features and the image path names. What to do with them?\n",
    "    # Hint: use the feats_dict somehow.\n",
    "\n",
    "    for i in range(len(feats)):\n",
    "        image = path_names[i]\n",
    "        feat = feats[i]\n",
    "        feats_dict[image] = feat.flatten()\n",
    "\n"
   ]
  },
  {
   "cell_type": "code",
   "execution_count": null,
   "metadata": {
    "colab": {
     "base_uri": "https://localhost:8080/"
    },
    "id": "k6TG6RD6NTtX",
    "outputId": "79cbe7e9-fe65-47b4-aae7-cc1020a06563"
   },
   "outputs": [
    {
     "name": "stdout",
     "output_type": "stream",
     "text": [
      "('000b28b024.jpg', tensor([ 0.6167, -0.0713, -0.1148,  ...,  0.6418,  0.2189, -0.1183],\n",
      "       device='cuda:0'))\n"
     ]
    }
   ],
   "source": [
    "# What does this dict look like?\n",
    "print(list(feats_dict.items())[0])"
   ]
  },
  {
   "cell_type": "code",
   "execution_count": null,
   "metadata": {
    "colab": {
     "base_uri": "https://localhost:8080/"
    },
    "id": "_zuqds2qNO6N",
    "outputId": "261fa2ea-5f63-47ff-b5f3-37e43566450e"
   },
   "outputs": [
    {
     "name": "stderr",
     "output_type": "stream",
     "text": []
    },
    {
     "name": "stdout",
     "output_type": "stream",
     "text": [
      "AUC: 0.9617723571988384\n"
     ]
    }
   ],
   "source": [
    "# We use cosine similarity between feature embeddings.\n",
    "# TODO: Find the relevant function in pytorch and read its documentation.\n",
    "similarity_metric = nn.CosineSimilarity(dim = 0, eps = 1e-08)\n",
    "\n",
    "val_veri_csv = osp.join(DATA_DIR, \"verification/verification/verification_dev.csv\")\n",
    "\n",
    "\n",
    "# Now, loop through the csv and compare each pair, getting the similarity between them\n",
    "pred_similarities = []\n",
    "gt_similarities = []\n",
    "\n",
    "for line in tqdm(open(val_veri_csv).read().splitlines()[1:], position=0, leave=False): # skip header\n",
    "    img_path1, img_path2, gt = line.split(\",\")\n",
    "\n",
    "    # TODO: Use the similarity metric\n",
    "    # How to use these img_paths? What to do with the features?\n",
    "\n",
    "    image_1 = img_path1.split('/')[1]\n",
    "    feats_1 = feats_dict[image_1]\n",
    "\n",
    "    image_2 = img_path2.split('/')[1]\n",
    "    feats_2 = feats_dict[image_2]\n",
    "\n",
    "    similarity = similarity_metric(feats_1, feats_2).cpu()\n",
    "    pred_similarities.append(similarity)\n",
    "\n",
    "    gt_similarities.append(int(gt))\n",
    "\n",
    "pred_similarities = np.array(pred_similarities)\n",
    "gt_similarities = np.array(gt_similarities)\n",
    "\n",
    "print(\"AUC:\", roc_auc_score(gt_similarities, pred_similarities))"
   ]
  },
  {
   "cell_type": "markdown",
   "metadata": {
    "id": "sakRa8oZOlKr"
   },
   "source": [
    "# Verification Task: Submit to Kaggle"
   ]
  },
  {
   "cell_type": "code",
   "execution_count": null,
   "metadata": {
    "id": "oDK3knDcOrOE"
   },
   "outputs": [],
   "source": [
    "test_veri_dataset = VerificationDataset(osp.join(DATA_DIR, \"verification/verification/test\"),\n",
    "                                        ttf.Compose(val_transforms))\n",
    "test_ver_loader = torch.utils.data.DataLoader(test_veri_dataset, batch_size=batch_size, \n",
    "                                              shuffle=False, num_workers=1)"
   ]
  },
  {
   "cell_type": "code",
   "execution_count": null,
   "metadata": {
    "colab": {
     "base_uri": "https://localhost:8080/"
    },
    "id": "igeRT3WxOrB_",
    "outputId": "d9531707-33fc-487f-90e4-38d2175d52e5"
   },
   "outputs": [
    {
     "name": "stderr",
     "output_type": "stream",
     "text": []
    }
   ],
   "source": [
    "model.eval()\n",
    "\n",
    "feats_dict = dict()\n",
    "for batch_idx, (imgs, path_names) in tqdm(enumerate(test_ver_loader), total=len(test_ver_loader), position=0, leave=False):\n",
    "    imgs = imgs.cuda()\n",
    "\n",
    "    with torch.no_grad():\n",
    "        # Note that we return the feats here, not the final outputs\n",
    "        # Feel free to try to final outputs too!\n",
    "        #feats = model(imgs, return_feats=True)\n",
    "\n",
    "        feats = model(imgs)\n",
    "        feats = nn.Sequential(nn.GELU())(feats) # RELU6, GELU, LeakyRELU\n",
    "\n",
    "    \n",
    "    # TODO: Now we have features and the image path names. What to do with them?\n",
    "    # Hint: use the feats_dict somehow.\n",
    "    for i in range(len(feats)):\n",
    "        image = path_names[i]\n",
    "        feat = feats[i]\n",
    "        feats_dict[image] = feat.flatten()\n",
    "\n"
   ]
  },
  {
   "cell_type": "code",
   "execution_count": null,
   "metadata": {
    "colab": {
     "base_uri": "https://localhost:8080/"
    },
    "id": "X4OZL_FNOq1r",
    "outputId": "5e79dd76-d973-4872-e5bd-8c6226cfd8ff"
   },
   "outputs": [
    {
     "name": "stderr",
     "output_type": "stream",
     "text": []
    }
   ],
   "source": [
    "# We use cosine similarity between feature embeddings.\n",
    "# TODO: Find the relevant function in pytorch and read its documentation.\n",
    "# similarity_metric = \n",
    "val_veri_csv = osp.join(DATA_DIR, \"verification/verification/verification_test.csv\")\n",
    "\n",
    "\n",
    "# Now, loop through the csv and compare each pair, getting the similarity between them\n",
    "pred_similarities = []\n",
    "for line in tqdm(open(val_veri_csv).read().splitlines()[1:], position=0, leave=False): # skip header\n",
    "    img_path1, img_path2 = line.split(\",\")\n",
    "\n",
    "    # TODO: Finish up verification testing.\n",
    "    # How to use these img_paths? What to do with the features?\n",
    "\n",
    "    image_1 = img_path1.split('/')[1]\n",
    "    feats_1 = feats_dict[image_1]\n",
    "\n",
    "    image_2 = img_path2.split('/')[1]\n",
    "    feats_2 = feats_dict[image_2]\n",
    "\n",
    "    similarity = similarity_metric(feats_1, feats_2).cpu()\n",
    "    pred_similarities.append(similarity)\n",
    "\n"
   ]
  },
  {
   "cell_type": "code",
   "execution_count": null,
   "metadata": {
    "id": "fYXiglWkPBDv"
   },
   "outputs": [],
   "source": [
    "with open(\"verification_slack_submission.csv\", \"w+\") as f:\n",
    "    f.write(\"id,match\\n\")\n",
    "    for i in range(len(pred_similarities)):\n",
    "        f.write(\"{},{}\\n\".format(i, pred_similarities[i]))"
   ]
  },
  {
   "cell_type": "code",
   "execution_count": null,
   "metadata": {
    "colab": {
     "base_uri": "https://localhost:8080/"
    },
    "id": "P5zB7P8O687N",
    "outputId": "b7c4921b-4621-4f6c-8d6e-8a5569659716"
   },
   "outputs": [
    {
     "name": "stdout",
     "output_type": "stream",
     "text": [
      "Warning: Looks like you're using an outdated API Version, please consider updating (server 1.5.12 / client 1.5.8)\n",
      "100% 16.7M/16.7M [00:03<00:00, 5.82MB/s]\n",
      "Successfully submitted to Face Verification (Slack)"
     ]
    }
   ],
   "source": [
    "# keeping commented out to avoid accidental submission\n",
    "\n",
    "#!kaggle competitions submit -c face-verification-slack -f verification_slack_submission.csv -m \"config 4 - with 512 final layer - verification version - epoch 64\""
   ]
  },
  {
   "cell_type": "markdown",
   "metadata": {
    "id": "ALiq9PTl7KwY"
   },
   "source": [
    "# Extras"
   ]
  },
  {
   "cell_type": "code",
   "execution_count": null,
   "metadata": {
    "colab": {
     "base_uri": "https://localhost:8080/"
    },
    "id": "OuAsK_tKhzH9",
    "outputId": "d02bf774-8fed-47f6-80f1-f600018fe88e"
   },
   "outputs": [
    {
     "name": "stdout",
     "output_type": "stream",
     "text": [
      "Fri Feb 18 07:47:10 2022       \n",
      "+-----------------------------------------------------------------------------+\n",
      "| NVIDIA-SMI 460.32.03    Driver Version: 460.32.03    CUDA Version: 11.2     |\n",
      "|-------------------------------+----------------------+----------------------+\n",
      "| GPU  Name        Persistence-M| Bus-Id        Disp.A | Volatile Uncorr. ECC |\n",
      "| Fan  Temp  Perf  Pwr:Usage/Cap|         Memory-Usage | GPU-Util  Compute M. |\n",
      "|                               |                      |               MIG M. |\n",
      "|===============================+======================+======================|\n",
      "|   0  Tesla P100-PCIE...  Off  | 00000000:00:04.0 Off |                    0 |\n",
      "| N/A   37C    P0    32W / 250W |   2951MiB / 16280MiB |      3%      Default |\n",
      "|                               |                      |                  N/A |\n",
      "+-------------------------------+----------------------+----------------------+\n",
      "                                                                               \n",
      "+-----------------------------------------------------------------------------+\n",
      "| Processes:                                                                  |\n",
      "|  GPU   GI   CI        PID   Type   Process name                  GPU Memory |\n",
      "|        ID   ID                                                   Usage      |\n",
      "|=============================================================================|\n",
      "+-----------------------------------------------------------------------------+\n"
     ]
    }
   ],
   "source": [
    "# If you keep re-initializing your model in Colab, can run out of GPU memory, need to restart.\n",
    "# These three lines can help that - run this before you re-initialize your model\n",
    "\n",
    "# del model\n",
    "# torch.cuda.empty_cache()\n",
    "# !nvidia-smi"
   ]
  }
 ],
 "metadata": {
  "accelerator": "GPU",
  "colab": {
   "background_execution": "on",
   "collapsed_sections": [],
   "machine_shape": "hm",
   "name": "HW2P2_rjpatel_classification_verification_final.ipynb",
   "provenance": []
  },
  "kernelspec": {
   "display_name": "Python 3 (ipykernel)",
   "language": "python",
   "name": "python3"
  },
  "language_info": {
   "codemirror_mode": {
    "name": "ipython",
    "version": 3
   },
   "file_extension": ".py",
   "mimetype": "text/x-python",
   "name": "python",
   "nbconvert_exporter": "python",
   "pygments_lexer": "ipython3",
   "version": "3.9.7"
  }
 },
 "nbformat": 4,
 "nbformat_minor": 1
}
